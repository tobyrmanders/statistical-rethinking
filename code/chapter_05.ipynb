{
 "cells": [
  {
   "cell_type": "markdown",
   "metadata": {
    "execution": {
     "iopub.execute_input": "2022-07-27T20:28:45.692308Z",
     "iopub.status.busy": "2022-07-27T20:28:45.691709Z",
     "iopub.status.idle": "2022-07-27T20:28:45.699762Z",
     "shell.execute_reply": "2022-07-27T20:28:45.698561Z",
     "shell.execute_reply.started": "2022-07-27T20:28:45.692283Z"
    }
   },
   "source": [
    "[![Open In Colab](https://colab.research.google.com/assets/colab-badge.svg)](https://github.com/tobyrmanders/statistical-rethinking/blob/main/code/chapter_05.ipynb)"
   ]
  },
  {
   "cell_type": "code",
   "execution_count": 1,
   "metadata": {
    "execution": {
     "iopub.execute_input": "2022-09-12T17:49:26.658265Z",
     "iopub.status.busy": "2022-09-12T17:49:26.657985Z",
     "iopub.status.idle": "2022-09-12T17:49:29.014043Z",
     "shell.execute_reply": "2022-09-12T17:49:29.013484Z",
     "shell.execute_reply.started": "2022-09-12T17:49:26.658205Z"
    },
    "tags": []
   },
   "outputs": [],
   "source": [
    "import torch\n",
    "from torch import tensor\n",
    "import torch.distributions.constraints as constraints\n",
    "\n",
    "import pyro\n",
    "from pyro import distributions as dist\n",
    "from pyro.infer.autoguide import AutoLaplaceApproximation\n",
    "from pyro.infer import svi, Predictive\n",
    "from pyro import optim\n",
    "import pyro.ops.stats as stats\n",
    "\n",
    "\n",
    "import pandas as pd\n",
    "import matplotlib.pyplot as plt\n",
    "import seaborn as sns\n",
    "\n",
    "from rethinking import MAP, coef, extract_samples, link, precis, sim, vcov"
   ]
  },
  {
   "cell_type": "markdown",
   "metadata": {},
   "source": [
    "# Easy"
   ]
  },
  {
   "cell_type": "markdown",
   "metadata": {},
   "source": [
    "## 5E1"
   ]
  },
  {
   "cell_type": "markdown",
   "metadata": {},
   "source": [
    "2, 4"
   ]
  },
  {
   "cell_type": "markdown",
   "metadata": {},
   "source": [
    "## 5E2"
   ]
  },
  {
   "cell_type": "markdown",
   "metadata": {},
   "source": [
    "$\n",
    "D_i \\sim Normal(\\mu_i, \\sigma) \\\\\n",
    "\\mu_i = \\alpha + \\beta_P * P_i  + \\beta_L * L_i \\\\\n",
    "$"
   ]
  },
  {
   "cell_type": "markdown",
   "metadata": {},
   "source": [
    "## 5E3"
   ]
  },
  {
   "cell_type": "markdown",
   "metadata": {
    "execution": {
     "iopub.execute_input": "2022-09-12T16:58:12.341902Z",
     "iopub.status.busy": "2022-09-12T16:58:12.341448Z",
     "iopub.status.idle": "2022-09-12T16:58:12.347855Z",
     "shell.execute_reply": "2022-09-12T16:58:12.346276Z",
     "shell.execute_reply.started": "2022-09-12T16:58:12.341876Z"
    }
   },
   "source": [
    "$\n",
    "T_i \\sim Normal(\\mu_i, \\sigma) \\\\\n",
    "\\mu_i = \\alpha + \\beta_S * S_i  + \\beta_T * T_i \\\\\n",
    "$\n",
    "\n",
    "Both slopes are positive."
   ]
  },
  {
   "cell_type": "markdown",
   "metadata": {},
   "source": [
    "## 5E4"
   ]
  },
  {
   "cell_type": "markdown",
   "metadata": {},
   "source": [
    "1, 3, 4, 5?"
   ]
  },
  {
   "cell_type": "markdown",
   "metadata": {
    "execution": {
     "iopub.execute_input": "2022-09-12T17:07:03.990651Z",
     "iopub.status.busy": "2022-09-12T17:07:03.990061Z",
     "iopub.status.idle": "2022-09-12T17:07:03.994193Z",
     "shell.execute_reply": "2022-09-12T17:07:03.993199Z",
     "shell.execute_reply.started": "2022-09-12T17:07:03.990624Z"
    }
   },
   "source": [
    "# Medium"
   ]
  },
  {
   "cell_type": "markdown",
   "metadata": {},
   "source": [
    "## 5M1"
   ]
  },
  {
   "cell_type": "markdown",
   "metadata": {},
   "source": [
    "Strength as predicted by lean body mass and age. "
   ]
  },
  {
   "cell_type": "markdown",
   "metadata": {},
   "source": [
    "## 5M2"
   ]
  },
  {
   "cell_type": "markdown",
   "metadata": {},
   "source": [
    "Basketball ranking as predicted by hand size and arachnodactyly. "
   ]
  },
  {
   "cell_type": "markdown",
   "metadata": {},
   "source": [
    "## 5M3"
   ]
  },
  {
   "cell_type": "markdown",
   "metadata": {},
   "source": [
    "Divorced people remarry. The threshold to get married may be lower as a result of culturally accepted divorce -- i.e. less perceived commitment. While complementary data such as surveys on thoughts about divorce or longitudinal data of marriage and remarriage might paint a better picture, causal inference is probably difficult here. "
   ]
  },
  {
   "cell_type": "markdown",
   "metadata": {},
   "source": [
    "## 5M4"
   ]
  },
  {
   "cell_type": "code",
   "execution_count": 3,
   "metadata": {
    "execution": {
     "iopub.execute_input": "2022-09-12T17:49:42.929043Z",
     "iopub.status.busy": "2022-09-12T17:49:42.928423Z",
     "iopub.status.idle": "2022-09-12T17:49:42.952803Z",
     "shell.execute_reply": "2022-09-12T17:49:42.951439Z",
     "shell.execute_reply.started": "2022-09-12T17:49:42.929015Z"
    },
    "tags": []
   },
   "outputs": [
    {
     "data": {
      "text/html": [
       "<div>\n",
       "<style scoped>\n",
       "    .dataframe tbody tr th:only-of-type {\n",
       "        vertical-align: middle;\n",
       "    }\n",
       "\n",
       "    .dataframe tbody tr th {\n",
       "        vertical-align: top;\n",
       "    }\n",
       "\n",
       "    .dataframe thead th {\n",
       "        text-align: right;\n",
       "    }\n",
       "</style>\n",
       "<table border=\"1\" class=\"dataframe\">\n",
       "  <thead>\n",
       "    <tr style=\"text-align: right;\">\n",
       "      <th></th>\n",
       "      <th>Location</th>\n",
       "      <th>Loc</th>\n",
       "      <th>Population</th>\n",
       "      <th>MedianAgeMarriage</th>\n",
       "      <th>Marriage</th>\n",
       "      <th>Marriage SE</th>\n",
       "      <th>Divorce</th>\n",
       "      <th>Divorce SE</th>\n",
       "      <th>WaffleHouses</th>\n",
       "      <th>South</th>\n",
       "      <th>Slaves1860</th>\n",
       "      <th>Population1860</th>\n",
       "      <th>PropSlaves1860</th>\n",
       "    </tr>\n",
       "  </thead>\n",
       "  <tbody>\n",
       "    <tr>\n",
       "      <th>0</th>\n",
       "      <td>Alabama</td>\n",
       "      <td>AL</td>\n",
       "      <td>4.78</td>\n",
       "      <td>25.3</td>\n",
       "      <td>20.2</td>\n",
       "      <td>1.27</td>\n",
       "      <td>12.7</td>\n",
       "      <td>0.79</td>\n",
       "      <td>128</td>\n",
       "      <td>1</td>\n",
       "      <td>435080</td>\n",
       "      <td>964201</td>\n",
       "      <td>0.45</td>\n",
       "    </tr>\n",
       "    <tr>\n",
       "      <th>1</th>\n",
       "      <td>Alaska</td>\n",
       "      <td>AK</td>\n",
       "      <td>0.71</td>\n",
       "      <td>25.2</td>\n",
       "      <td>26.0</td>\n",
       "      <td>2.93</td>\n",
       "      <td>12.5</td>\n",
       "      <td>2.05</td>\n",
       "      <td>0</td>\n",
       "      <td>0</td>\n",
       "      <td>0</td>\n",
       "      <td>0</td>\n",
       "      <td>0.00</td>\n",
       "    </tr>\n",
       "    <tr>\n",
       "      <th>2</th>\n",
       "      <td>Arizona</td>\n",
       "      <td>AZ</td>\n",
       "      <td>6.33</td>\n",
       "      <td>25.8</td>\n",
       "      <td>20.3</td>\n",
       "      <td>0.98</td>\n",
       "      <td>10.8</td>\n",
       "      <td>0.74</td>\n",
       "      <td>18</td>\n",
       "      <td>0</td>\n",
       "      <td>0</td>\n",
       "      <td>0</td>\n",
       "      <td>0.00</td>\n",
       "    </tr>\n",
       "    <tr>\n",
       "      <th>3</th>\n",
       "      <td>Arkansas</td>\n",
       "      <td>AR</td>\n",
       "      <td>2.92</td>\n",
       "      <td>24.3</td>\n",
       "      <td>26.4</td>\n",
       "      <td>1.70</td>\n",
       "      <td>13.5</td>\n",
       "      <td>1.22</td>\n",
       "      <td>41</td>\n",
       "      <td>1</td>\n",
       "      <td>111115</td>\n",
       "      <td>435450</td>\n",
       "      <td>0.26</td>\n",
       "    </tr>\n",
       "    <tr>\n",
       "      <th>4</th>\n",
       "      <td>California</td>\n",
       "      <td>CA</td>\n",
       "      <td>37.25</td>\n",
       "      <td>26.8</td>\n",
       "      <td>19.1</td>\n",
       "      <td>0.39</td>\n",
       "      <td>8.0</td>\n",
       "      <td>0.24</td>\n",
       "      <td>0</td>\n",
       "      <td>0</td>\n",
       "      <td>0</td>\n",
       "      <td>379994</td>\n",
       "      <td>0.00</td>\n",
       "    </tr>\n",
       "  </tbody>\n",
       "</table>\n",
       "</div>"
      ],
      "text/plain": [
       "     Location Loc  Population  MedianAgeMarriage  Marriage  Marriage SE  \\\n",
       "0     Alabama  AL        4.78               25.3      20.2         1.27   \n",
       "1      Alaska  AK        0.71               25.2      26.0         2.93   \n",
       "2     Arizona  AZ        6.33               25.8      20.3         0.98   \n",
       "3    Arkansas  AR        2.92               24.3      26.4         1.70   \n",
       "4  California  CA       37.25               26.8      19.1         0.39   \n",
       "\n",
       "   Divorce  Divorce SE  WaffleHouses  South  Slaves1860  Population1860  \\\n",
       "0     12.7        0.79           128      1      435080          964201   \n",
       "1     12.5        2.05             0      0           0               0   \n",
       "2     10.8        0.74            18      0           0               0   \n",
       "3     13.5        1.22            41      1      111115          435450   \n",
       "4      8.0        0.24             0      0           0          379994   \n",
       "\n",
       "   PropSlaves1860  \n",
       "0            0.45  \n",
       "1            0.00  \n",
       "2            0.00  \n",
       "3            0.26  \n",
       "4            0.00  "
      ]
     },
     "execution_count": 3,
     "metadata": {},
     "output_type": "execute_result"
    }
   ],
   "source": [
    "d = pd.read_csv('../data/WaffleDivorce.csv', sep=';')\n",
    "d.head()"
   ]
  },
  {
   "cell_type": "code",
   "execution_count": 4,
   "metadata": {
    "execution": {
     "iopub.execute_input": "2022-09-12T17:49:56.391409Z",
     "iopub.status.busy": "2022-09-12T17:49:56.391057Z",
     "iopub.status.idle": "2022-09-12T17:49:56.736496Z",
     "shell.execute_reply": "2022-09-12T17:49:56.735973Z",
     "shell.execute_reply.started": "2022-09-12T17:49:56.391385Z"
    },
    "tags": []
   },
   "outputs": [
    {
     "data": {
      "text/html": [
       "<div>\n",
       "<style scoped>\n",
       "    .dataframe tbody tr th:only-of-type {\n",
       "        vertical-align: middle;\n",
       "    }\n",
       "\n",
       "    .dataframe tbody tr th {\n",
       "        vertical-align: top;\n",
       "    }\n",
       "\n",
       "    .dataframe thead th {\n",
       "        text-align: right;\n",
       "    }\n",
       "</style>\n",
       "<table border=\"1\" class=\"dataframe\">\n",
       "  <thead>\n",
       "    <tr style=\"text-align: right;\">\n",
       "      <th></th>\n",
       "      <th>State</th>\n",
       "      <th>% of adults (2014)</th>\n",
       "      <th>Total State Sample</th>\n",
       "    </tr>\n",
       "  </thead>\n",
       "  <tbody>\n",
       "    <tr>\n",
       "      <th>0</th>\n",
       "      <td>Alabama</td>\n",
       "      <td>1%</td>\n",
       "      <td>511</td>\n",
       "    </tr>\n",
       "    <tr>\n",
       "      <th>1</th>\n",
       "      <td>Alaska</td>\n",
       "      <td>5%</td>\n",
       "      <td>310</td>\n",
       "    </tr>\n",
       "    <tr>\n",
       "      <th>2</th>\n",
       "      <td>Arizona</td>\n",
       "      <td>5%</td>\n",
       "      <td>653</td>\n",
       "    </tr>\n",
       "    <tr>\n",
       "      <th>3</th>\n",
       "      <td>Arkansas</td>\n",
       "      <td>1%</td>\n",
       "      <td>311</td>\n",
       "    </tr>\n",
       "    <tr>\n",
       "      <th>4</th>\n",
       "      <td>California</td>\n",
       "      <td>1%</td>\n",
       "      <td>3697</td>\n",
       "    </tr>\n",
       "  </tbody>\n",
       "</table>\n",
       "</div>"
      ],
      "text/plain": [
       "        State % of adults (2014)  Total State Sample\n",
       "0     Alabama                 1%                 511\n",
       "1      Alaska                 5%                 310\n",
       "2     Arizona                 5%                 653\n",
       "3    Arkansas                 1%                 311\n",
       "4  California                 1%                3697"
      ]
     },
     "execution_count": 4,
     "metadata": {},
     "output_type": "execute_result"
    }
   ],
   "source": [
    "lds = pd.read_html('https://www.pewresearch.org/religion/religious-landscape-study/religious-tradition/mormon/')[0]\n",
    "lds.head()"
   ]
  },
  {
   "cell_type": "code",
   "execution_count": 10,
   "metadata": {
    "execution": {
     "iopub.execute_input": "2022-09-12T17:53:37.658175Z",
     "iopub.status.busy": "2022-09-12T17:53:37.657854Z",
     "iopub.status.idle": "2022-09-12T17:53:37.682472Z",
     "shell.execute_reply": "2022-09-12T17:53:37.681351Z",
     "shell.execute_reply.started": "2022-09-12T17:53:37.658151Z"
    },
    "tags": []
   },
   "outputs": [
    {
     "data": {
      "text/html": [
       "<div>\n",
       "<style scoped>\n",
       "    .dataframe tbody tr th:only-of-type {\n",
       "        vertical-align: middle;\n",
       "    }\n",
       "\n",
       "    .dataframe tbody tr th {\n",
       "        vertical-align: top;\n",
       "    }\n",
       "\n",
       "    .dataframe thead th {\n",
       "        text-align: right;\n",
       "    }\n",
       "</style>\n",
       "<table border=\"1\" class=\"dataframe\">\n",
       "  <thead>\n",
       "    <tr style=\"text-align: right;\">\n",
       "      <th></th>\n",
       "      <th>Location</th>\n",
       "      <th>Loc</th>\n",
       "      <th>Population</th>\n",
       "      <th>MedianAgeMarriage</th>\n",
       "      <th>Marriage</th>\n",
       "      <th>Marriage SE</th>\n",
       "      <th>Divorce</th>\n",
       "      <th>Divorce SE</th>\n",
       "      <th>WaffleHouses</th>\n",
       "      <th>South</th>\n",
       "      <th>Slaves1860</th>\n",
       "      <th>Population1860</th>\n",
       "      <th>PropSlaves1860</th>\n",
       "      <th>State</th>\n",
       "      <th>% of adults (2014)</th>\n",
       "      <th>Total State Sample</th>\n",
       "      <th>pct</th>\n",
       "      <th>lds_pct</th>\n",
       "    </tr>\n",
       "  </thead>\n",
       "  <tbody>\n",
       "    <tr>\n",
       "      <th>0</th>\n",
       "      <td>Alabama</td>\n",
       "      <td>AL</td>\n",
       "      <td>4.78</td>\n",
       "      <td>25.3</td>\n",
       "      <td>20.2</td>\n",
       "      <td>1.27</td>\n",
       "      <td>12.7</td>\n",
       "      <td>0.79</td>\n",
       "      <td>128</td>\n",
       "      <td>1</td>\n",
       "      <td>435080</td>\n",
       "      <td>964201</td>\n",
       "      <td>0.45</td>\n",
       "      <td>Alabama</td>\n",
       "      <td>1%</td>\n",
       "      <td>511</td>\n",
       "      <td>1</td>\n",
       "      <td>1</td>\n",
       "    </tr>\n",
       "    <tr>\n",
       "      <th>1</th>\n",
       "      <td>Alaska</td>\n",
       "      <td>AK</td>\n",
       "      <td>0.71</td>\n",
       "      <td>25.2</td>\n",
       "      <td>26.0</td>\n",
       "      <td>2.93</td>\n",
       "      <td>12.5</td>\n",
       "      <td>2.05</td>\n",
       "      <td>0</td>\n",
       "      <td>0</td>\n",
       "      <td>0</td>\n",
       "      <td>0</td>\n",
       "      <td>0.00</td>\n",
       "      <td>Alaska</td>\n",
       "      <td>5%</td>\n",
       "      <td>310</td>\n",
       "      <td>5</td>\n",
       "      <td>5</td>\n",
       "    </tr>\n",
       "    <tr>\n",
       "      <th>2</th>\n",
       "      <td>Arizona</td>\n",
       "      <td>AZ</td>\n",
       "      <td>6.33</td>\n",
       "      <td>25.8</td>\n",
       "      <td>20.3</td>\n",
       "      <td>0.98</td>\n",
       "      <td>10.8</td>\n",
       "      <td>0.74</td>\n",
       "      <td>18</td>\n",
       "      <td>0</td>\n",
       "      <td>0</td>\n",
       "      <td>0</td>\n",
       "      <td>0.00</td>\n",
       "      <td>Arizona</td>\n",
       "      <td>5%</td>\n",
       "      <td>653</td>\n",
       "      <td>5</td>\n",
       "      <td>5</td>\n",
       "    </tr>\n",
       "    <tr>\n",
       "      <th>3</th>\n",
       "      <td>Arkansas</td>\n",
       "      <td>AR</td>\n",
       "      <td>2.92</td>\n",
       "      <td>24.3</td>\n",
       "      <td>26.4</td>\n",
       "      <td>1.70</td>\n",
       "      <td>13.5</td>\n",
       "      <td>1.22</td>\n",
       "      <td>41</td>\n",
       "      <td>1</td>\n",
       "      <td>111115</td>\n",
       "      <td>435450</td>\n",
       "      <td>0.26</td>\n",
       "      <td>Arkansas</td>\n",
       "      <td>1%</td>\n",
       "      <td>311</td>\n",
       "      <td>1</td>\n",
       "      <td>1</td>\n",
       "    </tr>\n",
       "    <tr>\n",
       "      <th>4</th>\n",
       "      <td>California</td>\n",
       "      <td>CA</td>\n",
       "      <td>37.25</td>\n",
       "      <td>26.8</td>\n",
       "      <td>19.1</td>\n",
       "      <td>0.39</td>\n",
       "      <td>8.0</td>\n",
       "      <td>0.24</td>\n",
       "      <td>0</td>\n",
       "      <td>0</td>\n",
       "      <td>0</td>\n",
       "      <td>379994</td>\n",
       "      <td>0.00</td>\n",
       "      <td>California</td>\n",
       "      <td>1%</td>\n",
       "      <td>3697</td>\n",
       "      <td>1</td>\n",
       "      <td>1</td>\n",
       "    </tr>\n",
       "  </tbody>\n",
       "</table>\n",
       "</div>"
      ],
      "text/plain": [
       "     Location Loc  Population  MedianAgeMarriage  Marriage  Marriage SE  \\\n",
       "0     Alabama  AL        4.78               25.3      20.2         1.27   \n",
       "1      Alaska  AK        0.71               25.2      26.0         2.93   \n",
       "2     Arizona  AZ        6.33               25.8      20.3         0.98   \n",
       "3    Arkansas  AR        2.92               24.3      26.4         1.70   \n",
       "4  California  CA       37.25               26.8      19.1         0.39   \n",
       "\n",
       "   Divorce  Divorce SE  WaffleHouses  South  Slaves1860  Population1860  \\\n",
       "0     12.7        0.79           128      1      435080          964201   \n",
       "1     12.5        2.05             0      0           0               0   \n",
       "2     10.8        0.74            18      0           0               0   \n",
       "3     13.5        1.22            41      1      111115          435450   \n",
       "4      8.0        0.24             0      0           0          379994   \n",
       "\n",
       "   PropSlaves1860       State % of adults (2014)  Total State Sample pct  \\\n",
       "0            0.45     Alabama                 1%                 511   1   \n",
       "1            0.00      Alaska                 5%                 310   5   \n",
       "2            0.00     Arizona                 5%                 653   5   \n",
       "3            0.26    Arkansas                 1%                 311   1   \n",
       "4            0.00  California                 1%                3697   1   \n",
       "\n",
       "  lds_pct  \n",
       "0       1  \n",
       "1       5  \n",
       "2       5  \n",
       "3       1  \n",
       "4       1  "
      ]
     },
     "execution_count": 10,
     "metadata": {},
     "output_type": "execute_result"
    }
   ],
   "source": [
    "lds['lds_pct'] = lds['% of adults (2014)'].str.split('%').str[0].replace('< 1', '0')\n",
    "d = d.merge(lds, left_on='Location', right_on='State')\n",
    "d.head()"
   ]
  },
  {
   "cell_type": "code",
   "execution_count": 23,
   "metadata": {
    "execution": {
     "iopub.execute_input": "2022-09-12T18:19:17.759915Z",
     "iopub.status.busy": "2022-09-12T18:19:17.759572Z",
     "iopub.status.idle": "2022-09-12T18:19:17.770419Z",
     "shell.execute_reply": "2022-09-12T18:19:17.769279Z",
     "shell.execute_reply.started": "2022-09-12T18:19:17.759889Z"
    },
    "tags": []
   },
   "outputs": [],
   "source": [
    "from sklearn.preprocessing import scale\n",
    "t = torch.tensor(scale(d[['Divorce', 'Marriage', 'MedianAgeMarriage', 'lds_pct']]), dtype=float)\n",
    "d_std, m_std, a_std, l_std  = t[:,0], t[:,1], t[:,2], t[:,3],\n",
    "divorce = torch.tensor(d.Divorce, dtype=float)"
   ]
  },
  {
   "cell_type": "code",
   "execution_count": 24,
   "metadata": {
    "execution": {
     "iopub.execute_input": "2022-09-12T18:19:18.806745Z",
     "iopub.status.busy": "2022-09-12T18:19:18.806403Z",
     "iopub.status.idle": "2022-09-12T18:19:18.813425Z",
     "shell.execute_reply": "2022-09-12T18:19:18.812491Z",
     "shell.execute_reply.started": "2022-09-12T18:19:18.806718Z"
    },
    "tags": []
   },
   "outputs": [],
   "source": [
    "pyro.clear_param_store()\n",
    "def model(marriage, median_age_marriage, lds, divorce):\n",
    "    a = pyro.sample(\"a\", dist.Normal(10, 10))\n",
    "    bR = pyro.sample(\"bR\", dist.Normal(0, 1))\n",
    "    bA = pyro.sample(\"bA\", dist.Normal(0, 1))\n",
    "    bL = pyro.sample(\"bL\", dist.Normal(0, 1))\n",
    "    mu = a + bR * marriage + bA * median_age_marriage + bL * lds\n",
    "    sigma = pyro.sample(\"sigma\", dist.Uniform(0, 10))\n",
    "    with pyro.plate(\"data\"):\n",
    "        pyro.sample(\"Divorce\", dist.Normal(mu, sigma), obs=divorce)"
   ]
  },
  {
   "cell_type": "code",
   "execution_count": 25,
   "metadata": {
    "execution": {
     "iopub.execute_input": "2022-09-12T18:19:24.028285Z",
     "iopub.status.busy": "2022-09-12T18:19:24.027715Z",
     "iopub.status.idle": "2022-09-12T18:19:29.024947Z",
     "shell.execute_reply": "2022-09-12T18:19:29.024293Z",
     "shell.execute_reply.started": "2022-09-12T18:19:24.028260Z"
    }
   },
   "outputs": [
    {
     "name": "stdout",
     "output_type": "stream",
     "text": [
      "Elbo loss: 241.04761142887384\n",
      "Elbo loss: 182.22193091813017\n",
      "Elbo loss: 172.81403261040327\n",
      "Elbo loss: 160.99588792830656\n",
      "Elbo loss: 146.62877102947033\n",
      "Elbo loss: 124.43713355664602\n",
      "Elbo loss: 103.21587316554564\n",
      "Elbo loss: 98.8421629866791\n",
      "Elbo loss: 100.23993274518268\n",
      "Elbo loss: 98.44065604889771\n"
     ]
    },
    {
     "data": {
      "image/png": "[encoded data removed]",
      "text/plain": [
       "<Figure size 360x144 with 1 Axes>"
      ]
     },
     "metadata": {
      "needs_background": "light"
     },
     "output_type": "display_data"
    }
   ],
   "source": [
    "pyro.clear_param_store()\n",
    "\n",
    "auto_guide = pyro.infer.autoguide.AutoNormal(model)\n",
    "adam = pyro.optim.Adam({\"lr\": 0.02})\n",
    "elbo = pyro.infer.Trace_ELBO()\n",
    "svi = pyro.infer.SVI(model, auto_guide, adam, elbo)\n",
    "\n",
    "losses = []\n",
    "for step in range(1000):  # Consider running for more steps.\n",
    "    loss = svi.step(m_std, a_std, l_std, divorce)\n",
    "    losses.append(loss)\n",
    "    if step % 100 == 0:\n",
    "        print(\"Elbo loss: {}\".format(loss))\n",
    "\n",
    "plt.figure(figsize=(5, 2))\n",
    "plt.plot(losses)\n",
    "plt.xlabel(\"SVI step\")\n",
    "plt.ylabel(\"ELBO loss\");"
   ]
  },
  {
   "cell_type": "code",
   "execution_count": 26,
   "metadata": {
    "execution": {
     "iopub.execute_input": "2022-09-12T18:21:23.051821Z",
     "iopub.status.busy": "2022-09-12T18:21:23.051483Z",
     "iopub.status.idle": "2022-09-12T18:21:23.063755Z",
     "shell.execute_reply": "2022-09-12T18:21:23.063056Z",
     "shell.execute_reply.started": "2022-09-12T18:21:23.051796Z"
    }
   },
   "outputs": [],
   "source": [
    "with pyro.plate(\"samples\", 800, dim=-1):\n",
    "    samples = auto_guide(m_std, a_std, l_std, divorce)"
   ]
  },
  {
   "cell_type": "code",
   "execution_count": 34,
   "metadata": {
    "execution": {
     "iopub.execute_input": "2022-09-12T18:26:50.133910Z",
     "iopub.status.busy": "2022-09-12T18:26:50.133558Z",
     "iopub.status.idle": "2022-09-12T18:26:50.138259Z",
     "shell.execute_reply": "2022-09-12T18:26:50.137447Z",
     "shell.execute_reply.started": "2022-09-12T18:26:50.133882Z"
    },
    "tags": []
   },
   "outputs": [],
   "source": [
    "res = {k: v.detach().numpy() for k, v in samples.items()}"
   ]
  },
  {
   "cell_type": "code",
   "execution_count": 35,
   "metadata": {
    "execution": {
     "iopub.execute_input": "2022-09-12T18:26:53.100812Z",
     "iopub.status.busy": "2022-09-12T18:26:53.100462Z",
     "iopub.status.idle": "2022-09-12T18:26:53.105511Z",
     "shell.execute_reply": "2022-09-12T18:26:53.104198Z",
     "shell.execute_reply.started": "2022-09-12T18:26:53.100786Z"
    },
    "tags": []
   },
   "outputs": [],
   "source": [
    "posterior = pd.DataFrame.from_dict(res)"
   ]
  },
  {
   "cell_type": "code",
   "execution_count": 36,
   "metadata": {
    "execution": {
     "iopub.execute_input": "2022-09-12T18:26:55.847621Z",
     "iopub.status.busy": "2022-09-12T18:26:55.847287Z",
     "iopub.status.idle": "2022-09-12T18:26:55.859743Z",
     "shell.execute_reply": "2022-09-12T18:26:55.858844Z",
     "shell.execute_reply.started": "2022-09-12T18:26:55.847596Z"
    }
   },
   "outputs": [
    {
     "data": {
      "text/html": [
       "<div>\n",
       "<style scoped>\n",
       "    .dataframe tbody tr th:only-of-type {\n",
       "        vertical-align: middle;\n",
       "    }\n",
       "\n",
       "    .dataframe tbody tr th {\n",
       "        vertical-align: top;\n",
       "    }\n",
       "\n",
       "    .dataframe thead th {\n",
       "        text-align: right;\n",
       "    }\n",
       "</style>\n",
       "<table border=\"1\" class=\"dataframe\">\n",
       "  <thead>\n",
       "    <tr style=\"text-align: right;\">\n",
       "      <th></th>\n",
       "      <th>a</th>\n",
       "      <th>bR</th>\n",
       "      <th>bA</th>\n",
       "      <th>bL</th>\n",
       "      <th>sigma</th>\n",
       "    </tr>\n",
       "  </thead>\n",
       "  <tbody>\n",
       "    <tr>\n",
       "      <th>0</th>\n",
       "      <td>10.053417</td>\n",
       "      <td>-0.045199</td>\n",
       "      <td>-1.540528</td>\n",
       "      <td>-0.648976</td>\n",
       "      <td>1.561829</td>\n",
       "    </tr>\n",
       "    <tr>\n",
       "      <th>1</th>\n",
       "      <td>9.660554</td>\n",
       "      <td>-0.004581</td>\n",
       "      <td>-1.098480</td>\n",
       "      <td>-0.527793</td>\n",
       "      <td>1.850508</td>\n",
       "    </tr>\n",
       "    <tr>\n",
       "      <th>2</th>\n",
       "      <td>9.795877</td>\n",
       "      <td>-0.095725</td>\n",
       "      <td>-1.064668</td>\n",
       "      <td>-0.443461</td>\n",
       "      <td>1.362004</td>\n",
       "    </tr>\n",
       "    <tr>\n",
       "      <th>3</th>\n",
       "      <td>9.534385</td>\n",
       "      <td>0.048744</td>\n",
       "      <td>-1.371109</td>\n",
       "      <td>-0.532510</td>\n",
       "      <td>1.841509</td>\n",
       "    </tr>\n",
       "    <tr>\n",
       "      <th>4</th>\n",
       "      <td>9.468480</td>\n",
       "      <td>0.323864</td>\n",
       "      <td>-1.173243</td>\n",
       "      <td>-0.281130</td>\n",
       "      <td>1.395974</td>\n",
       "    </tr>\n",
       "    <tr>\n",
       "      <th>...</th>\n",
       "      <td>...</td>\n",
       "      <td>...</td>\n",
       "      <td>...</td>\n",
       "      <td>...</td>\n",
       "      <td>...</td>\n",
       "    </tr>\n",
       "    <tr>\n",
       "      <th>795</th>\n",
       "      <td>9.544024</td>\n",
       "      <td>0.019176</td>\n",
       "      <td>-1.044508</td>\n",
       "      <td>-0.201914</td>\n",
       "      <td>1.622833</td>\n",
       "    </tr>\n",
       "    <tr>\n",
       "      <th>796</th>\n",
       "      <td>9.857675</td>\n",
       "      <td>0.080374</td>\n",
       "      <td>-1.477430</td>\n",
       "      <td>-0.362556</td>\n",
       "      <td>1.765668</td>\n",
       "    </tr>\n",
       "    <tr>\n",
       "      <th>797</th>\n",
       "      <td>9.676285</td>\n",
       "      <td>-0.424399</td>\n",
       "      <td>-1.233480</td>\n",
       "      <td>-0.340407</td>\n",
       "      <td>1.743265</td>\n",
       "    </tr>\n",
       "    <tr>\n",
       "      <th>798</th>\n",
       "      <td>9.960518</td>\n",
       "      <td>0.044981</td>\n",
       "      <td>-1.014124</td>\n",
       "      <td>-0.435058</td>\n",
       "      <td>1.488511</td>\n",
       "    </tr>\n",
       "    <tr>\n",
       "      <th>799</th>\n",
       "      <td>9.571029</td>\n",
       "      <td>0.554927</td>\n",
       "      <td>-1.062088</td>\n",
       "      <td>-0.329989</td>\n",
       "      <td>1.435099</td>\n",
       "    </tr>\n",
       "  </tbody>\n",
       "</table>\n",
       "<p>800 rows × 5 columns</p>\n",
       "</div>"
      ],
      "text/plain": [
       "             a        bR        bA        bL     sigma\n",
       "0    10.053417 -0.045199 -1.540528 -0.648976  1.561829\n",
       "1     9.660554 -0.004581 -1.098480 -0.527793  1.850508\n",
       "2     9.795877 -0.095725 -1.064668 -0.443461  1.362004\n",
       "3     9.534385  0.048744 -1.371109 -0.532510  1.841509\n",
       "4     9.468480  0.323864 -1.173243 -0.281130  1.395974\n",
       "..         ...       ...       ...       ...       ...\n",
       "795   9.544024  0.019176 -1.044508 -0.201914  1.622833\n",
       "796   9.857675  0.080374 -1.477430 -0.362556  1.765668\n",
       "797   9.676285 -0.424399 -1.233480 -0.340407  1.743265\n",
       "798   9.960518  0.044981 -1.014124 -0.435058  1.488511\n",
       "799   9.571029  0.554927 -1.062088 -0.329989  1.435099\n",
       "\n",
       "[800 rows x 5 columns]"
      ]
     },
     "execution_count": 36,
     "metadata": {},
     "output_type": "execute_result"
    }
   ],
   "source": [
    "posterior"
   ]
  },
  {
   "cell_type": "code",
   "execution_count": 38,
   "metadata": {
    "execution": {
     "iopub.execute_input": "2022-09-12T18:27:35.720894Z",
     "iopub.status.busy": "2022-09-12T18:27:35.720529Z",
     "iopub.status.idle": "2022-09-12T18:27:35.901614Z",
     "shell.execute_reply": "2022-09-12T18:27:35.901114Z",
     "shell.execute_reply.started": "2022-09-12T18:27:35.720867Z"
    },
    "tags": []
   },
   "outputs": [
    {
     "data": {
      "text/plain": [
       "<AxesSubplot:>"
      ]
     },
     "execution_count": 38,
     "metadata": {},
     "output_type": "execute_result"
    },
    {
     "data": {
      "image/png": "[encoded data removed]",
      "text/plain": [
       "<Figure size 432x288 with 1 Axes>"
      ]
     },
     "metadata": {
      "needs_background": "light"
     },
     "output_type": "display_data"
    }
   ],
   "source": [
    "sns.boxplot(data=posterior, orient='h')"
   ]
  },
  {
   "cell_type": "markdown",
   "metadata": {},
   "source": [
    "## 5M5"
   ]
  },
  {
   "cell_type": "markdown",
   "metadata": {},
   "source": [
    "These hypotheses could be evaluated with the following predictor variables: rate of dining out, rate of exercise. Multiple regression with obesity (e.g. BMI) as an estimand, and gas price, dining out, and exercise as predictors, could reveal spurious waffles. "
   ]
  },
  {
   "cell_type": "markdown",
   "metadata": {},
   "source": [
    "## 5H1"
   ]
  },
  {
   "cell_type": "markdown",
   "metadata": {},
   "source": [
    "This DAG implies that D is conditionally indpendent of M given A, and M is conditionaly independent of D given A. The plot from section 5.1.4 suggests that the data is consistent with this DAG, since the slope for M in the multiple regression model is close to zero."
   ]
  },
  {
   "cell_type": "code",
   "execution_count": null,
   "metadata": {},
   "outputs": [],
   "source": []
  }
 ],
 "metadata": {
  "kernelspec": {
   "display_name": "statistical-rethinking-env",
   "language": "python",
   "name": "statistical-rethinking-env"
  },
  "language_info": {
   "codemirror_mode": {
    "name": "ipython",
    "version": 3
   },
   "file_extension": ".py",
   "mimetype": "text/x-python",
   "name": "python",
   "nbconvert_exporter": "python",
   "pygments_lexer": "ipython3",
   "version": "3.9.13"
  }
 },
 "nbformat": 4,
 "nbformat_minor": 4
}
