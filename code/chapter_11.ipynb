{
 "cells": [
  {
   "cell_type": "markdown",
   "id": "c99fb63a",
   "metadata": {},
   "source": [
    "[![Open In Colab](https://colab.research.google.com/assets/colab-badge.svg)](https://github.com/tobyrmanders/statistical-rethinking/blob/main/code/chapter_11.ipynb)"
   ]
  },
  {
   "cell_type": "code",
   "execution_count": 4,
   "id": "57ff4b59",
   "metadata": {
    "execution": {
     "iopub.execute_input": "2023-02-22T17:55:59.240212Z",
     "iopub.status.busy": "2023-02-22T17:55:59.239808Z",
     "iopub.status.idle": "2023-02-22T17:55:59.246703Z",
     "shell.execute_reply": "2023-02-22T17:55:59.245283Z",
     "shell.execute_reply.started": "2023-02-22T17:55:59.240178Z"
    },
    "jupyter": {
     "source_hidden": true
    },
    "tags": []
   },
   "outputs": [],
   "source": [
    "import torch\n",
    "from torch import tensor\n",
    "import torch.distributions.constraints as constraints\n",
    "\n",
    "import pyro\n",
    "from pyro import distributions as dist\n",
    "from pyro.infer.autoguide import AutoLaplaceApproximation\n",
    "from pyro.infer import svi, Predictive\n",
    "from pyro import optim\n",
    "import pyro.ops.stats as stats\n",
    "\n",
    "\n",
    "import pandas as pd\n",
    "import matplotlib.pyplot as plt\n",
    "import seaborn as sns\n",
    "import numpy as np\n",
    "\n",
    "from rethinking import MAP, coef, extract_samples, link, precis, sim, vcov"
   ]
  },
  {
   "cell_type": "markdown",
   "id": "0419ecca",
   "metadata": {},
   "source": [
    "# Easy"
   ]
  },
  {
   "cell_type": "code",
   "execution_count": 5,
   "id": "f6c1450d",
   "metadata": {
    "execution": {
     "iopub.execute_input": "2023-02-22T17:56:07.118873Z",
     "iopub.status.busy": "2023-02-22T17:56:07.118524Z",
     "iopub.status.idle": "2023-02-22T17:56:07.125542Z",
     "shell.execute_reply": "2023-02-22T17:56:07.124504Z",
     "shell.execute_reply.started": "2023-02-22T17:56:07.118843Z"
    },
    "tags": []
   },
   "outputs": [
    {
     "data": {
      "text/plain": [
       "-0.6190392084062235"
      ]
     },
     "execution_count": 5,
     "metadata": {},
     "output_type": "execute_result"
    }
   ],
   "source": [
    "# 11E1\n",
    "\n",
    "p = 0.35\n",
    "np.log(p / (1 - p))"
   ]
  },
  {
   "cell_type": "code",
   "execution_count": 7,
   "id": "57fe332d-76c2-409c-9c9c-aa44d7356858",
   "metadata": {
    "execution": {
     "iopub.execute_input": "2023-02-22T17:58:48.975576Z",
     "iopub.status.busy": "2023-02-22T17:58:48.975237Z",
     "iopub.status.idle": "2023-02-22T17:58:48.982000Z",
     "shell.execute_reply": "2023-02-22T17:58:48.980999Z",
     "shell.execute_reply.started": "2023-02-22T17:58:48.975547Z"
    },
    "tags": []
   },
   "outputs": [
    {
     "data": {
      "text/plain": [
       "0.9608342772032357"
      ]
     },
     "execution_count": 7,
     "metadata": {},
     "output_type": "execute_result"
    }
   ],
   "source": [
    "# 11E2\n",
    "\n",
    "def inv_logit(x):\n",
    "    return 1 / (1 + np.exp(-x))\n",
    "\n",
    "inv_logit(3.2)"
   ]
  },
  {
   "cell_type": "code",
   "execution_count": 9,
   "id": "e3a8ca39-b235-4d61-ba8a-e5329d62ddd0",
   "metadata": {
    "execution": {
     "iopub.execute_input": "2023-02-22T18:05:48.013880Z",
     "iopub.status.busy": "2023-02-22T18:05:48.009777Z",
     "iopub.status.idle": "2023-02-22T18:05:48.050457Z",
     "shell.execute_reply": "2023-02-22T18:05:48.049699Z",
     "shell.execute_reply.started": "2023-02-22T18:05:48.013838Z"
    },
    "tags": []
   },
   "outputs": [
    {
     "data": {
      "text/plain": [
       "5.4739473917272"
      ]
     },
     "execution_count": 9,
     "metadata": {},
     "output_type": "execute_result"
    }
   ],
   "source": [
    "# 11E3\n",
    "\n",
    "# Each one unit increase in the independent variable causes a 1.7x log odds. So odds increase by:\n",
    "np.exp(1.7)"
   ]
  },
  {
   "cell_type": "raw",
   "id": "007c7278-e9ea-435a-b0c1-15ae91211b1f",
   "metadata": {
    "execution": {
     "iopub.execute_input": "2023-02-22T18:00:17.354557Z",
     "iopub.status.busy": "2023-02-22T18:00:17.354151Z",
     "iopub.status.idle": "2023-02-22T18:00:17.360671Z",
     "shell.execute_reply": "2023-02-22T18:00:17.359321Z",
     "shell.execute_reply.started": "2023-02-22T18:00:17.354523Z"
    }
   },
   "source": [
    "# 11E4\n",
    "\n",
    "The offset accounts for different exposures (e.g. lengths of time) in the observations. Example: your dataset has daily and weekly rainfall totals."
   ]
  },
  {
   "cell_type": "markdown",
   "id": "c6cadb7e-c33e-4db1-8d3f-05a41c903bc0",
   "metadata": {},
   "source": [
    "# Medium"
   ]
  },
  {
   "cell_type": "markdown",
   "id": "ac66d20a-7e35-44b9-b03d-5e9b74897d1a",
   "metadata": {},
   "source": [
    "## 11M1"
   ]
  },
  {
   "cell_type": "markdown",
   "id": "5ddb4342-f35c-485e-9f4f-444847414177",
   "metadata": {},
   "source": [
    "With the aggregated organization (binomial regression), the order of individual trials does not matter. The likelihood function is the likelihod of seeing m successes in n trials. With the disaggregated organization (logistic regression), the order matters. It is the likelihood of seeing that exact sequence."
   ]
  },
  {
   "cell_type": "markdown",
   "id": "8bd19aa7-3aac-4d81-b85e-6d845fad378d",
   "metadata": {},
   "source": [
    "## 11M2"
   ]
  },
  {
   "cell_type": "markdown",
   "id": "fb94483c-b9a2-4a55-b2bb-dc63a534786d",
   "metadata": {},
   "source": [
    "log(lambda) will increase by 1.7x for each unit change in x, so the outcome will increase by:"
   ]
  },
  {
   "cell_type": "code",
   "execution_count": 10,
   "id": "9e00b9fb-22fd-4ae3-b196-46a06da01878",
   "metadata": {
    "execution": {
     "iopub.execute_input": "2023-02-22T19:24:13.167203Z",
     "iopub.status.busy": "2023-02-22T19:24:13.154406Z",
     "iopub.status.idle": "2023-02-22T19:24:13.208694Z",
     "shell.execute_reply": "2023-02-22T19:24:13.207446Z",
     "shell.execute_reply.started": "2023-02-22T19:24:13.167135Z"
    },
    "tags": []
   },
   "outputs": [
    {
     "data": {
      "text/plain": [
       "5.4739473917272"
      ]
     },
     "execution_count": 10,
     "metadata": {},
     "output_type": "execute_result"
    }
   ],
   "source": [
    "np.exp(1.7)"
   ]
  },
  {
   "cell_type": "markdown",
   "id": "a7b5fbda-2f1c-45b2-8b4b-6201de60ab1d",
   "metadata": {},
   "source": [
    "## 11M3"
   ]
  },
  {
   "cell_type": "markdown",
   "id": "90a25b09-02a5-49c6-a7fc-60da9dd69767",
   "metadata": {},
   "source": [
    "The outcome for a binomial GLM has a lower bound of 0 and an upper bound of n trials, corresponding to a binomial proportion between 0 and 1. The inverse logit transforms an unbounded real number into a number between 0 and 1. "
   ]
  },
  {
   "cell_type": "markdown",
   "id": "ca063af8-5a6b-448b-b093-60ca7bf45d43",
   "metadata": {
    "execution": {
     "iopub.execute_input": "2023-02-22T19:28:33.529761Z",
     "iopub.status.busy": "2023-02-22T19:28:33.528221Z",
     "iopub.status.idle": "2023-02-22T19:28:33.553644Z",
     "shell.execute_reply": "2023-02-22T19:28:33.551448Z",
     "shell.execute_reply.started": "2023-02-22T19:28:33.529729Z"
    }
   },
   "source": [
    "## 11M4"
   ]
  },
  {
   "cell_type": "markdown",
   "id": "624de88e-f033-4164-bf11-48134d22e9e4",
   "metadata": {},
   "source": [
    "The outcome space is between 0 and infinity. The log link takes a real value (-inf, +inf) and maps it to (0, +inf). "
   ]
  },
  {
   "cell_type": "markdown",
   "id": "c272cc9a-1082-4a44-ac76-f4fc438957bc",
   "metadata": {},
   "source": [
    "## 11M5"
   ]
  },
  {
   "cell_type": "markdown",
   "id": "0587cab9-370c-45da-aa8f-338dba57bea7",
   "metadata": {},
   "source": [
    "Using a logit link instead of a log link would imply that the counts being modeled would never be greater than 1 for an exposure. It would also imply a diminishing response to the predictor variable for means close to 1. \n",
    "I'm not sure if there would be a context for this, but possibly very rare events?\n",
    "\n",
    "edit: Google says may be appropriate for overdispersed rare events?"
   ]
  },
  {
   "cell_type": "markdown",
   "id": "648e69c8-757e-4bfd-ae02-9ab9ba9dc5a7",
   "metadata": {},
   "source": [
    "## 11M6"
   ]
  },
  {
   "cell_type": "markdown",
   "id": "819f61ec-86d6-4eb5-82f3-8da6eca015aa",
   "metadata": {},
   "source": [
    "Both: binary outcome, stationary proportion\n",
    "\n",
    "Poisson: special case where upper limit is unknown"
   ]
  },
  {
   "cell_type": "markdown",
   "id": "59546ad0-2e8a-4468-907c-113c3e96f4ad",
   "metadata": {},
   "source": [
    "## 11M7"
   ]
  },
  {
   "cell_type": "code",
   "execution_count": 14,
   "id": "794e7317-f2b3-4bc3-91ba-253f8e2eb5f3",
   "metadata": {
    "execution": {
     "iopub.execute_input": "2023-02-22T19:52:11.403713Z",
     "iopub.status.busy": "2023-02-22T19:52:11.403073Z",
     "iopub.status.idle": "2023-02-22T19:52:11.430784Z",
     "shell.execute_reply": "2023-02-22T19:52:11.429855Z",
     "shell.execute_reply.started": "2023-02-22T19:52:11.403685Z"
    },
    "tags": []
   },
   "outputs": [
    {
     "data": {
      "text/html": [
       "<div>\n",
       "<style scoped>\n",
       "    .dataframe tbody tr th:only-of-type {\n",
       "        vertical-align: middle;\n",
       "    }\n",
       "\n",
       "    .dataframe tbody tr th {\n",
       "        vertical-align: top;\n",
       "    }\n",
       "\n",
       "    .dataframe thead th {\n",
       "        text-align: right;\n",
       "    }\n",
       "</style>\n",
       "<table border=\"1\" class=\"dataframe\">\n",
       "  <thead>\n",
       "    <tr style=\"text-align: right;\">\n",
       "      <th></th>\n",
       "      <th>actor</th>\n",
       "      <th>recipient</th>\n",
       "      <th>condition</th>\n",
       "      <th>block</th>\n",
       "      <th>trial</th>\n",
       "      <th>prosoc_left</th>\n",
       "      <th>chose_prosoc</th>\n",
       "      <th>pulled_left</th>\n",
       "    </tr>\n",
       "  </thead>\n",
       "  <tbody>\n",
       "    <tr>\n",
       "      <th>0</th>\n",
       "      <td>1</td>\n",
       "      <td>NaN</td>\n",
       "      <td>0</td>\n",
       "      <td>1</td>\n",
       "      <td>2</td>\n",
       "      <td>0</td>\n",
       "      <td>1</td>\n",
       "      <td>0</td>\n",
       "    </tr>\n",
       "    <tr>\n",
       "      <th>1</th>\n",
       "      <td>1</td>\n",
       "      <td>NaN</td>\n",
       "      <td>0</td>\n",
       "      <td>1</td>\n",
       "      <td>4</td>\n",
       "      <td>0</td>\n",
       "      <td>0</td>\n",
       "      <td>1</td>\n",
       "    </tr>\n",
       "    <tr>\n",
       "      <th>2</th>\n",
       "      <td>1</td>\n",
       "      <td>NaN</td>\n",
       "      <td>0</td>\n",
       "      <td>1</td>\n",
       "      <td>6</td>\n",
       "      <td>1</td>\n",
       "      <td>0</td>\n",
       "      <td>0</td>\n",
       "    </tr>\n",
       "    <tr>\n",
       "      <th>3</th>\n",
       "      <td>1</td>\n",
       "      <td>NaN</td>\n",
       "      <td>0</td>\n",
       "      <td>1</td>\n",
       "      <td>8</td>\n",
       "      <td>0</td>\n",
       "      <td>1</td>\n",
       "      <td>0</td>\n",
       "    </tr>\n",
       "    <tr>\n",
       "      <th>4</th>\n",
       "      <td>1</td>\n",
       "      <td>NaN</td>\n",
       "      <td>0</td>\n",
       "      <td>1</td>\n",
       "      <td>10</td>\n",
       "      <td>1</td>\n",
       "      <td>1</td>\n",
       "      <td>1</td>\n",
       "    </tr>\n",
       "  </tbody>\n",
       "</table>\n",
       "</div>"
      ],
      "text/plain": [
       "   actor  recipient  condition  block  trial  prosoc_left  chose_prosoc  \\\n",
       "0      1        NaN          0      1      2            0             1   \n",
       "1      1        NaN          0      1      4            0             0   \n",
       "2      1        NaN          0      1      6            1             0   \n",
       "3      1        NaN          0      1      8            0             1   \n",
       "4      1        NaN          0      1     10            1             1   \n",
       "\n",
       "   pulled_left  \n",
       "0            0  \n",
       "1            1  \n",
       "2            0  \n",
       "3            0  \n",
       "4            1  "
      ]
     },
     "execution_count": 14,
     "metadata": {},
     "output_type": "execute_result"
    }
   ],
   "source": [
    "df = pd.read_csv('../data/chimpanzees.csv', sep=';')\n",
    "df.head()"
   ]
  },
  {
   "cell_type": "code",
   "execution_count": 51,
   "id": "771cf236-8b6e-4513-8a07-df089404e4c3",
   "metadata": {
    "execution": {
     "iopub.execute_input": "2023-02-22T20:07:31.926439Z",
     "iopub.status.busy": "2023-02-22T20:07:31.925344Z",
     "iopub.status.idle": "2023-02-22T20:07:31.952949Z",
     "shell.execute_reply": "2023-02-22T20:07:31.951831Z",
     "shell.execute_reply.started": "2023-02-22T20:07:31.926402Z"
    },
    "tags": []
   },
   "outputs": [
    {
     "data": {
      "text/plain": [
       "7"
      ]
     },
     "execution_count": 51,
     "metadata": {},
     "output_type": "execute_result"
    }
   ],
   "source": [
    "df.actor.nunique()"
   ]
  },
  {
   "cell_type": "code",
   "execution_count": 52,
   "id": "b9f742d4-78aa-429d-8ffa-43516c0f0a57",
   "metadata": {
    "execution": {
     "iopub.execute_input": "2023-02-22T20:09:26.031398Z",
     "iopub.status.busy": "2023-02-22T20:09:26.031052Z",
     "iopub.status.idle": "2023-02-22T20:09:26.037247Z",
     "shell.execute_reply": "2023-02-22T20:09:26.036411Z",
     "shell.execute_reply.started": "2023-02-22T20:09:26.031371Z"
    },
    "tags": []
   },
   "outputs": [
    {
     "data": {
      "text/plain": [
       "array([1, 2, 3, 4, 5, 6, 7])"
      ]
     },
     "execution_count": 52,
     "metadata": {},
     "output_type": "execute_result"
    }
   ],
   "source": [
    "df.actor.unique()"
   ]
  },
  {
   "cell_type": "code",
   "execution_count": 97,
   "id": "3865d3e5-14f0-4c04-8196-2862e1cdeb57",
   "metadata": {
    "execution": {
     "iopub.execute_input": "2023-02-22T20:18:02.710606Z",
     "iopub.status.busy": "2023-02-22T20:18:02.710253Z",
     "iopub.status.idle": "2023-02-22T20:18:02.716166Z",
     "shell.execute_reply": "2023-02-22T20:18:02.715258Z",
     "shell.execute_reply.started": "2023-02-22T20:18:02.710577Z"
    }
   },
   "outputs": [],
   "source": [
    "df['actor'] = df.actor - 1"
   ]
  },
  {
   "cell_type": "code",
   "execution_count": 175,
   "id": "31d0c987-7362-456c-9f83-35f55eadc138",
   "metadata": {
    "execution": {
     "iopub.execute_input": "2023-02-22T21:48:42.988221Z",
     "iopub.status.busy": "2023-02-22T21:48:42.987484Z",
     "iopub.status.idle": "2023-02-22T21:48:43.003796Z",
     "shell.execute_reply": "2023-02-22T21:48:43.001776Z",
     "shell.execute_reply.started": "2023-02-22T21:48:42.988186Z"
    },
    "tags": []
   },
   "outputs": [],
   "source": [
    "from pyro import sample, plate, distributions as dist\n",
    "from pyro.infer import config_enumerate\n",
    "from torch import zeros, ones\n",
    "\n",
    "pyro.clear_param_store()\n",
    "\n",
    "num_actors = df.actor.nunique()\n",
    "\n",
    "@config_enumerate\n",
    "def model(left=None, actor=None):\n",
    "    a = sample(\"a\", dist.Normal(zeros(num_actors), ones(num_actors) * 1.5).to_event())\n",
    "    N = len(left) if left is not None else 10\n",
    "    with plate('data', N):\n",
    "        actor_id = sample('actor_id', dist.Categorical(ones(num_actors)), obs=actor, infer={'enumerate': 'parallel'}).long()\n",
    "        l = sample(\"left\", dist.Binomial(logits=a[actor_id]), obs=left)\n",
    "        return a, actor_id, l"
   ]
  },
  {
   "cell_type": "code",
   "execution_count": 189,
   "id": "e06e98ff-f471-48f9-946f-fe45d30baebf",
   "metadata": {
    "execution": {
     "iopub.execute_input": "2023-02-22T21:54:03.135121Z",
     "iopub.status.busy": "2023-02-22T21:54:03.134778Z",
     "iopub.status.idle": "2023-02-22T21:54:03.150155Z",
     "shell.execute_reply": "2023-02-22T21:54:03.148896Z",
     "shell.execute_reply.started": "2023-02-22T21:54:03.135093Z"
    }
   },
   "outputs": [
    {
     "data": {
      "text/plain": [
       "(tensor([-0.0045, -0.4386, -2.5647,  0.7535, -1.8596,  0.6381, -1.2319]),\n",
       " tensor([5, 2, 3, 4, 4, 6, 6, 0, 3, 0]),\n",
       " tensor([1., 0., 0., 0., 0., 0., 0., 1., 0., 0.]))"
      ]
     },
     "execution_count": 189,
     "metadata": {},
     "output_type": "execute_result"
    }
   ],
   "source": [
    "model()"
   ]
  },
  {
   "cell_type": "code",
   "execution_count": 196,
   "id": "f59dc38e-6a3d-4ac5-a83a-5655325a5d58",
   "metadata": {
    "execution": {
     "iopub.execute_input": "2023-02-22T21:58:02.111336Z",
     "iopub.status.busy": "2023-02-22T21:58:02.110945Z",
     "iopub.status.idle": "2023-02-22T21:58:06.435360Z",
     "shell.execute_reply": "2023-02-22T21:58:06.434353Z",
     "shell.execute_reply.started": "2023-02-22T21:58:02.111300Z"
    },
    "tags": []
   },
   "outputs": [
    {
     "name": "stdout",
     "output_type": "stream",
     "text": [
      "Elbo loss: 1259.005126953125\n",
      "Elbo loss: 1259.0047607421875\n",
      "Elbo loss: 1259.0048828125\n",
      "Elbo loss: 1259.0048828125\n",
      "Elbo loss: 1259.0048828125\n",
      "Elbo loss: 1259.0048828125\n",
      "Elbo loss: 1259.0048828125\n",
      "Elbo loss: 1259.0048828125\n",
      "Elbo loss: 1259.0048828125\n",
      "Elbo loss: 1259.0048828125\n"
     ]
    },
    {
     "data": {
      "image/png": "[encoded data removed]",
      "text/plain": [
       "<Figure size 500x200 with 1 Axes>"
      ]
     },
     "metadata": {},
     "output_type": "display_data"
    }
   ],
   "source": [
    "from pyro.infer.autoguide import AutoLaplaceApproximation\n",
    "from pyro.infer import SVI, Trace_ELBO, TraceEnum_ELBO\n",
    "from pyro.optim import Adam\n",
    "\n",
    "\n",
    "left = torch.tensor(df.pulled_left.values)\n",
    "actor = torch.tensor(df.actor.values)\n",
    "\n",
    "guide = AutoLaplaceApproximation(model)\n",
    "svi = SVI(model, guide, Adam({\"lr\": 0.02}), TraceEnum_ELBO())\n",
    "losses = []\n",
    "for step in range(1000):\n",
    "    loss = svi.step(left, actor)\n",
    "    losses.append(loss)\n",
    "    if step % 100 == 0:\n",
    "        print(\"Elbo loss: {}\".format(loss))\n",
    "\n",
    "plt.figure(figsize=(5, 2))\n",
    "plt.plot(losses)\n",
    "plt.xlabel(\"SVI step\")\n",
    "plt.ylabel(\"ELBO loss\");"
   ]
  },
  {
   "cell_type": "code",
   "execution_count": 230,
   "id": "eba4dc50-f201-4dc8-bf39-f23560243aba",
   "metadata": {
    "execution": {
     "iopub.execute_input": "2023-02-22T22:10:58.295237Z",
     "iopub.status.busy": "2023-02-22T22:10:58.294900Z",
     "iopub.status.idle": "2023-02-22T22:10:58.309145Z",
     "shell.execute_reply": "2023-02-22T22:10:58.307947Z",
     "shell.execute_reply.started": "2023-02-22T22:10:58.295211Z"
    },
    "tags": []
   },
   "outputs": [],
   "source": [
    "laplace_guide = guide.laplace_approximation(left, actor)\n",
    "# laplace_guide.quantiles([0.3, 0.7])\n",
    "for p in laplace_guide.parameters():\n",
    "    print(p)"
   ]
  },
  {
   "cell_type": "code",
   "execution_count": 233,
   "id": "07e5b177-e09d-410b-bc2a-1e842ed5809d",
   "metadata": {
    "execution": {
     "iopub.execute_input": "2023-02-22T22:14:49.692658Z",
     "iopub.status.busy": "2023-02-22T22:14:49.692319Z",
     "iopub.status.idle": "2023-02-22T22:14:49.698025Z",
     "shell.execute_reply": "2023-02-22T22:14:49.697208Z",
     "shell.execute_reply.started": "2023-02-22T22:14:49.692629Z"
    },
    "tags": []
   },
   "outputs": [],
   "source": [
    "post = laplace_guide.get_posterior()"
   ]
  },
  {
   "cell_type": "code",
   "execution_count": 235,
   "id": "aec688c5-81f4-42d7-bf98-3d338820ac47",
   "metadata": {
    "execution": {
     "iopub.execute_input": "2023-02-22T22:15:16.780363Z",
     "iopub.status.busy": "2023-02-22T22:15:16.779995Z",
     "iopub.status.idle": "2023-02-22T22:15:16.787824Z",
     "shell.execute_reply": "2023-02-22T22:15:16.787110Z",
     "shell.execute_reply.started": "2023-02-22T22:15:16.780320Z"
    },
    "tags": []
   },
   "outputs": [
    {
     "name": "stdout",
     "output_type": "stream",
     "text": [
      "tensor([-0.3281,  3.7441, -0.6146, -0.6146, -0.3281,  0.5557,  1.9622])\n"
     ]
    },
    {
     "data": {
      "text/plain": [
       "tensor([[0.0557, 0.0000, 0.0000, 0.0000, 0.0000, 0.0000, 0.0000],\n",
       "        [0.0000, 0.4831, 0.0000, 0.0000, 0.0000, 0.0000, 0.0000],\n",
       "        [0.0000, 0.0000, 0.0594, 0.0000, 0.0000, 0.0000, 0.0000],\n",
       "        [0.0000, 0.0000, 0.0000, 0.0594, 0.0000, 0.0000, 0.0000],\n",
       "        [0.0000, 0.0000, 0.0000, 0.0000, 0.0557, 0.0000, 0.0000],\n",
       "        [0.0000, 0.0000, 0.0000, 0.0000, 0.0000, 0.0584, 0.0000],\n",
       "        [0.0000, 0.0000, 0.0000, 0.0000, 0.0000, 0.0000, 0.1216]])"
      ]
     },
     "execution_count": 235,
     "metadata": {},
     "output_type": "execute_result"
    }
   ],
   "source": [
    "print(post.loc)\n",
    "post.covariance_matrix"
   ]
  },
  {
   "cell_type": "code",
   "execution_count": 242,
   "id": "df202d67-7449-4a38-b432-d2f26c3caa4b",
   "metadata": {
    "execution": {
     "iopub.execute_input": "2023-02-22T22:17:21.518897Z",
     "iopub.status.busy": "2023-02-22T22:17:21.518529Z",
     "iopub.status.idle": "2023-02-22T22:17:21.523218Z",
     "shell.execute_reply": "2023-02-22T22:17:21.521969Z",
     "shell.execute_reply.started": "2023-02-22T22:17:21.518868Z"
    },
    "tags": []
   },
   "outputs": [],
   "source": [
    "laplace_guide.parameters()\n",
    "for param in laplace_guide.parameters():\n",
    "    print(type(param), param.size())"
   ]
  },
  {
   "cell_type": "code",
   "execution_count": 250,
   "id": "f144e158-5cda-46cc-866f-7dd8764e69f8",
   "metadata": {
    "execution": {
     "iopub.execute_input": "2023-02-22T22:18:34.236654Z",
     "iopub.status.busy": "2023-02-22T22:18:34.236284Z",
     "iopub.status.idle": "2023-02-22T22:18:34.246214Z",
     "shell.execute_reply": "2023-02-22T22:18:34.245448Z",
     "shell.execute_reply.started": "2023-02-22T22:18:34.236625Z"
    },
    "tags": []
   },
   "outputs": [],
   "source": [
    "with plate('laplace_samples', 500): \n",
    "    samples = laplace_guide()"
   ]
  },
  {
   "cell_type": "code",
   "execution_count": 251,
   "id": "b75f00fe-2512-4e31-8af1-3f08cf5f0165",
   "metadata": {
    "execution": {
     "iopub.execute_input": "2023-02-22T22:18:38.335407Z",
     "iopub.status.busy": "2023-02-22T22:18:38.334768Z",
     "iopub.status.idle": "2023-02-22T22:18:38.342058Z",
     "shell.execute_reply": "2023-02-22T22:18:38.341125Z",
     "shell.execute_reply.started": "2023-02-22T22:18:38.335369Z"
    },
    "tags": []
   },
   "outputs": [
    {
     "data": {
      "text/plain": [
       "tensor([[-0.3414,  3.8920, -0.6915,  ..., -0.2882,  0.5113,  2.1346],\n",
       "        [-0.3375,  3.3983, -0.8117,  ..., -0.1415,  0.7903,  2.1816],\n",
       "        [-0.4285,  3.4049, -0.6747,  ..., -0.3673,  0.4304,  1.6321],\n",
       "        ...,\n",
       "        [-0.2013,  4.1882, -0.3251,  ..., -0.2609,  0.2930,  2.0985],\n",
       "        [-0.7573,  2.8284, -0.2923,  ..., -0.7586,  0.8794,  1.6707],\n",
       "        [-0.5661,  2.7214, -1.1936,  ..., -0.7468,  0.2653,  2.1155]])"
      ]
     },
     "execution_count": 251,
     "metadata": {},
     "output_type": "execute_result"
    }
   ],
   "source": [
    "samples['a']"
   ]
  },
  {
   "cell_type": "code",
   "execution_count": 255,
   "id": "314f78e5-cf14-4858-8caf-cb5278165e61",
   "metadata": {
    "execution": {
     "iopub.execute_input": "2023-02-22T22:20:02.190990Z",
     "iopub.status.busy": "2023-02-22T22:20:02.190638Z",
     "iopub.status.idle": "2023-02-22T22:20:02.212207Z",
     "shell.execute_reply": "2023-02-22T22:20:02.211263Z",
     "shell.execute_reply.started": "2023-02-22T22:20:02.190958Z"
    },
    "tags": []
   },
   "outputs": [
    {
     "data": {
      "text/html": [
       "<div>\n",
       "<style scoped>\n",
       "    .dataframe tbody tr th:only-of-type {\n",
       "        vertical-align: middle;\n",
       "    }\n",
       "\n",
       "    .dataframe tbody tr th {\n",
       "        vertical-align: top;\n",
       "    }\n",
       "\n",
       "    .dataframe thead th {\n",
       "        text-align: right;\n",
       "    }\n",
       "</style>\n",
       "<table border=\"1\" class=\"dataframe\">\n",
       "  <thead>\n",
       "    <tr style=\"text-align: right;\">\n",
       "      <th></th>\n",
       "      <th>a_0</th>\n",
       "      <th>a_1</th>\n",
       "      <th>a_2</th>\n",
       "      <th>a_3</th>\n",
       "      <th>a_4</th>\n",
       "      <th>a_5</th>\n",
       "      <th>a_6</th>\n",
       "    </tr>\n",
       "  </thead>\n",
       "  <tbody>\n",
       "    <tr>\n",
       "      <th>0</th>\n",
       "      <td>-0.341400</td>\n",
       "      <td>3.892019</td>\n",
       "      <td>-0.691476</td>\n",
       "      <td>-0.877357</td>\n",
       "      <td>-0.288244</td>\n",
       "      <td>0.511302</td>\n",
       "      <td>2.134578</td>\n",
       "    </tr>\n",
       "    <tr>\n",
       "      <th>1</th>\n",
       "      <td>-0.337516</td>\n",
       "      <td>3.398343</td>\n",
       "      <td>-0.811701</td>\n",
       "      <td>-0.845992</td>\n",
       "      <td>-0.141488</td>\n",
       "      <td>0.790270</td>\n",
       "      <td>2.181627</td>\n",
       "    </tr>\n",
       "    <tr>\n",
       "      <th>2</th>\n",
       "      <td>-0.428459</td>\n",
       "      <td>3.404860</td>\n",
       "      <td>-0.674678</td>\n",
       "      <td>-0.574537</td>\n",
       "      <td>-0.367271</td>\n",
       "      <td>0.430366</td>\n",
       "      <td>1.632056</td>\n",
       "    </tr>\n",
       "    <tr>\n",
       "      <th>3</th>\n",
       "      <td>-0.616230</td>\n",
       "      <td>4.001800</td>\n",
       "      <td>-0.660660</td>\n",
       "      <td>-0.931512</td>\n",
       "      <td>-0.636677</td>\n",
       "      <td>0.406443</td>\n",
       "      <td>2.421201</td>\n",
       "    </tr>\n",
       "    <tr>\n",
       "      <th>4</th>\n",
       "      <td>-0.658715</td>\n",
       "      <td>3.198822</td>\n",
       "      <td>-0.732968</td>\n",
       "      <td>-0.582837</td>\n",
       "      <td>-0.710985</td>\n",
       "      <td>0.474771</td>\n",
       "      <td>1.613913</td>\n",
       "    </tr>\n",
       "  </tbody>\n",
       "</table>\n",
       "</div>"
      ],
      "text/plain": [
       "        a_0       a_1       a_2       a_3       a_4       a_5       a_6\n",
       "0 -0.341400  3.892019 -0.691476 -0.877357 -0.288244  0.511302  2.134578\n",
       "1 -0.337516  3.398343 -0.811701 -0.845992 -0.141488  0.790270  2.181627\n",
       "2 -0.428459  3.404860 -0.674678 -0.574537 -0.367271  0.430366  1.632056\n",
       "3 -0.616230  4.001800 -0.660660 -0.931512 -0.636677  0.406443  2.421201\n",
       "4 -0.658715  3.198822 -0.732968 -0.582837 -0.710985  0.474771  1.613913"
      ]
     },
     "execution_count": 255,
     "metadata": {},
     "output_type": "execute_result"
    }
   ],
   "source": [
    "post = pd.DataFrame({\n",
    "    f'a_{i}': samples['a'][:, i] for i in range(7)\n",
    "})\n",
    "post.head()"
   ]
  },
  {
   "cell_type": "code",
   "execution_count": 256,
   "id": "e8d3d5f7-7f75-4396-9e83-065616d5858d",
   "metadata": {
    "execution": {
     "iopub.execute_input": "2023-02-22T22:20:22.815686Z",
     "iopub.status.busy": "2023-02-22T22:20:22.815333Z",
     "iopub.status.idle": "2023-02-22T22:20:23.306816Z",
     "shell.execute_reply": "2023-02-22T22:20:23.306252Z",
     "shell.execute_reply.started": "2023-02-22T22:20:22.815658Z"
    },
    "tags": []
   },
   "outputs": [
    {
     "data": {
      "text/plain": [
       "<AxesSubplot:ylabel='Count'>"
      ]
     },
     "execution_count": 256,
     "metadata": {},
     "output_type": "execute_result"
    },
    {
     "data": {
      "image/png": "[encoded data removed]",
      "text/plain": [
       "<Figure size 800x600 with 1 Axes>"
      ]
     },
     "metadata": {},
     "output_type": "display_data"
    }
   ],
   "source": [
    "sns.histplot(data=post)"
   ]
  },
  {
   "cell_type": "code",
   "execution_count": 257,
   "id": "6f6c4652-e10c-4566-ac9e-4ec9201a61ac",
   "metadata": {
    "execution": {
     "iopub.execute_input": "2023-02-22T22:20:40.659859Z",
     "iopub.status.busy": "2023-02-22T22:20:40.659514Z",
     "iopub.status.idle": "2023-02-22T22:20:40.671261Z",
     "shell.execute_reply": "2023-02-22T22:20:40.670458Z",
     "shell.execute_reply.started": "2023-02-22T22:20:40.659831Z"
    }
   },
   "outputs": [],
   "source": [
    "post_prob = post.transform(inv_logit)"
   ]
  },
  {
   "cell_type": "code",
   "execution_count": 259,
   "id": "f355763d-e273-4c60-8c90-7a6b03a06966",
   "metadata": {
    "execution": {
     "iopub.execute_input": "2023-02-22T22:20:54.442549Z",
     "iopub.status.busy": "2023-02-22T22:20:54.442187Z",
     "iopub.status.idle": "2023-02-22T22:20:54.819598Z",
     "shell.execute_reply": "2023-02-22T22:20:54.819049Z",
     "shell.execute_reply.started": "2023-02-22T22:20:54.442517Z"
    },
    "tags": []
   },
   "outputs": [
    {
     "data": {
      "text/plain": [
       "<AxesSubplot:ylabel='Count'>"
      ]
     },
     "execution_count": 259,
     "metadata": {},
     "output_type": "execute_result"
    },
    {
     "data": {
      "image/png": "[encoded data removed]",
      "text/plain": [
       "<Figure size 800x600 with 1 Axes>"
      ]
     },
     "metadata": {},
     "output_type": "display_data"
    }
   ],
   "source": [
    "sns.histplot(data=post_prob)"
   ]
  }
 ],
 "metadata": {
  "kernelspec": {
   "display_name": "Python (cvm-dev-env)",
   "language": "python",
   "name": "cvm-dev-env"
  },
  "language_info": {
   "codemirror_mode": {
    "name": "ipython",
    "version": 3
   },
   "file_extension": ".py",
   "mimetype": "text/x-python",
   "name": "python",
   "nbconvert_exporter": "python",
   "pygments_lexer": "ipython3",
   "version": "3.8.13"
  }
 },
 "nbformat": 4,
 "nbformat_minor": 5
}
