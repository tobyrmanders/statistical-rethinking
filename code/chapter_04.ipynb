{
 "cells": [
  {
   "cell_type": "code",
   "execution_count": 147,
   "metadata": {
    "execution": {
     "iopub.execute_input": "2022-07-27T01:04:20.419753Z",
     "iopub.status.busy": "2022-07-27T01:04:20.419311Z",
     "iopub.status.idle": "2022-07-27T01:04:20.425180Z",
     "shell.execute_reply": "2022-07-27T01:04:20.424169Z",
     "shell.execute_reply.started": "2022-07-27T01:04:20.419726Z"
    },
    "tags": []
   },
   "outputs": [],
   "source": [
    "import torch\n",
    "from torch import tensor\n",
    "import torch.distributions.constraints as constraints\n",
    "\n",
    "import pyro\n",
    "from pyro import distributions as dist\n",
    "from pyro.infer.autoguide import AutoLaplaceApproximation\n",
    "from pyro.infer import svi\n",
    "from pyro import optim\n",
    "\n",
    "import pandas as pd\n",
    "import matplotlib.pyplot as plt\n",
    "import seaborn as sns\n",
    "\n",
    "from rethinking import MAP, coef, extract_samples, link, precis, sim, vcov"
   ]
  },
  {
   "cell_type": "markdown",
   "metadata": {},
   "source": [
    "# 4E1"
   ]
  },
  {
   "cell_type": "markdown",
   "metadata": {},
   "source": [
    "yi ∼ Normal(µ, σ) "
   ]
  },
  {
   "cell_type": "markdown",
   "metadata": {},
   "source": [
    "# 4E2"
   ]
  },
  {
   "cell_type": "markdown",
   "metadata": {},
   "source": [
    "2"
   ]
  },
  {
   "cell_type": "markdown",
   "metadata": {},
   "source": [
    "# 4E3"
   ]
  },
  {
   "cell_type": "markdown",
   "metadata": {},
   "source": [
    "$\n",
    "P(\\mu, \\sigma|y) = \\frac{\\prod_i \\text{Normal}(y_i|\\mu,\\sigma) \\text{Normal}(\\mu|0,10) \\text{Exponential}(\\sigma|1)}{\\int\\int\\prod_i \\text{Normal}(y_i|\\mu,\\sigma) \\text{Normal}(\\mu|0,10) \\text{Exponential}(\\sigma|1)d\\mu d\\sigma}\n",
    "$"
   ]
  },
  {
   "cell_type": "markdown",
   "metadata": {},
   "source": [
    "# 4E4"
   ]
  },
  {
   "cell_type": "markdown",
   "metadata": {},
   "source": [
    "$\\mu_i = \\alpha + \\beta x_i$"
   ]
  },
  {
   "cell_type": "markdown",
   "metadata": {},
   "source": [
    "# 4E5"
   ]
  },
  {
   "cell_type": "markdown",
   "metadata": {
    "execution": {
     "iopub.execute_input": "2022-07-26T23:08:40.743419Z",
     "iopub.status.busy": "2022-07-26T23:08:40.742405Z",
     "iopub.status.idle": "2022-07-26T23:08:40.765424Z",
     "shell.execute_reply": "2022-07-26T23:08:40.764302Z",
     "shell.execute_reply.started": "2022-07-26T23:08:40.743175Z"
    }
   },
   "source": [
    "3"
   ]
  },
  {
   "cell_type": "markdown",
   "metadata": {},
   "source": [
    "# 4M1"
   ]
  },
  {
   "cell_type": "code",
   "execution_count": 23,
   "metadata": {
    "execution": {
     "iopub.execute_input": "2022-07-26T23:22:32.560372Z",
     "iopub.status.busy": "2022-07-26T23:22:32.560016Z",
     "iopub.status.idle": "2022-07-26T23:22:32.792205Z",
     "shell.execute_reply": "2022-07-26T23:22:32.791577Z",
     "shell.execute_reply.started": "2022-07-26T23:22:32.560346Z"
    },
    "tags": []
   },
   "outputs": [
    {
     "data": {
      "image/png": "[encoded data removed]",
      "text/plain": [
       "<Figure size 432x288 with 1 Axes>"
      ]
     },
     "metadata": {
      "needs_background": "light"
     },
     "output_type": "display_data"
    }
   ],
   "source": [
    "n_samples = 10_000\n",
    "sample_mu = dist.Normal(tensor(0.), tensor(10.)).sample(torch.Size([n_samples]))\n",
    "sample_sigma = dist.Exponential(tensor(1.),).sample(torch.Size([n_samples]))\n",
    "prior_y = dist.Normal(sample_mu, sample_sigma).sample()\n",
    "fig, ax = plt.subplots()\n",
    "sns.histplot(prior_y.numpy(), color='blue', kde=True, ax=ax)\n",
    "ax.set_xlabel('y (prior)')\n",
    "ax.set_ylabel('Density')\n",
    "fig.tight_layout()"
   ]
  },
  {
   "cell_type": "code",
   "execution_count": 21,
   "metadata": {
    "execution": {
     "iopub.execute_input": "2022-07-26T23:21:17.149646Z",
     "iopub.status.busy": "2022-07-26T23:21:17.149058Z",
     "iopub.status.idle": "2022-07-26T23:21:17.323435Z",
     "shell.execute_reply": "2022-07-26T23:21:17.322871Z",
     "shell.execute_reply.started": "2022-07-26T23:21:17.149620Z"
    },
    "tags": []
   },
   "outputs": [
    {
     "data": {
      "text/plain": [
       "<AxesSubplot:ylabel='Count'>"
      ]
     },
     "execution_count": 21,
     "metadata": {},
     "output_type": "execute_result"
    },
    {
     "data": {
      "image/png": "[encoded data removed]",
      "text/plain": [
       "<Figure size 432x288 with 1 Axes>"
      ]
     },
     "metadata": {
      "needs_background": "light"
     },
     "output_type": "display_data"
    }
   ],
   "source": [
    "sns.histplot(sample_sigma)"
   ]
  },
  {
   "cell_type": "markdown",
   "metadata": {},
   "source": [
    "# 4M2"
   ]
  },
  {
   "cell_type": "code",
   "execution_count": 40,
   "metadata": {
    "execution": {
     "iopub.execute_input": "2022-07-26T23:51:28.264744Z",
     "iopub.status.busy": "2022-07-26T23:51:28.264144Z",
     "iopub.status.idle": "2022-07-26T23:51:28.270053Z",
     "shell.execute_reply": "2022-07-26T23:51:28.269021Z",
     "shell.execute_reply.started": "2022-07-26T23:51:28.264718Z"
    },
    "tags": []
   },
   "outputs": [],
   "source": [
    "# pyro model definition\n",
    "\n",
    "def model_4m3(data=None, N=None):\n",
    "    mu = pyro.sample('mu', dist.Normal(tensor(0.), tensor(10.)))\n",
    "    sigma = pyro.sample('sigma', dist.Exponential(tensor(1.),))\n",
    "    if N is None:\n",
    "        N = 1 if data is None else len(data)\n",
    "    with pyro.plate('data', N):\n",
    "        y = pyro.sample('y', dist.Normal(mu, sigma), obs=data)\n",
    "        return y"
   ]
  },
  {
   "cell_type": "code",
   "execution_count": 42,
   "metadata": {
    "execution": {
     "iopub.execute_input": "2022-07-26T23:52:26.140991Z",
     "iopub.status.busy": "2022-07-26T23:52:26.140645Z",
     "iopub.status.idle": "2022-07-26T23:52:26.670102Z",
     "shell.execute_reply": "2022-07-26T23:52:26.669466Z",
     "shell.execute_reply.started": "2022-07-26T23:52:26.140964Z"
    }
   },
   "outputs": [
    {
     "data": {
      "image/svg+xml": [
       "<?xml version=\"1.0\" encoding=\"UTF-8\" standalone=\"no\"?>\n",
       "<!DOCTYPE svg PUBLIC \"-//W3C//DTD SVG 1.1//EN\"\n",
       " \"http://www.w3.org/Graphics/SVG/1.1/DTD/svg11.dtd\">\n",
       "<!-- Generated by graphviz version 3.0.0 (20220226.1711)\n",
       " -->\n",
       "<!-- Pages: 1 -->\n",
       "<svg width=\"292pt\" height=\"172pt\"\n",
       " viewBox=\"0.00 0.00 292.00 172.00\" xmlns=\"http://www.w3.org/2000/svg\" xmlns:xlink=\"http://www.w3.org/1999/xlink\">\n",
       "<g id=\"graph0\" class=\"graph\" transform=\"scale(1 1) rotate(0) translate(4 168)\">\n",
       "<polygon fill=\"white\" stroke=\"transparent\" points=\"-4,4 -4,-168 288,-168 288,4 -4,4\"/>\n",
       "<g id=\"clust1\" class=\"cluster\">\n",
       "<title>cluster_data</title>\n",
       "<polygon fill=\"none\" stroke=\"black\" points=\"30,-8 30,-83 100,-83 100,-8 30,-8\"/>\n",
       "<text text-anchor=\"middle\" x=\"80.5\" y=\"-15.8\" font-family=\"Times,serif\" font-size=\"14.00\">data</text>\n",
       "</g>\n",
       "<!-- mu -->\n",
       "<g id=\"node1\" class=\"node\">\n",
       "<title>mu</title>\n",
       "<ellipse fill=\"white\" stroke=\"black\" cx=\"27\" cy=\"-137.5\" rx=\"27\" ry=\"18\"/>\n",
       "<text text-anchor=\"middle\" x=\"27\" y=\"-133.8\" font-family=\"Times,serif\" font-size=\"14.00\">mu</text>\n",
       "</g>\n",
       "<!-- y -->\n",
       "<g id=\"node3\" class=\"node\">\n",
       "<title>y</title>\n",
       "<ellipse fill=\"white\" stroke=\"black\" cx=\"65\" cy=\"-57\" rx=\"27\" ry=\"18\"/>\n",
       "<text text-anchor=\"middle\" x=\"65\" y=\"-53.3\" font-family=\"Times,serif\" font-size=\"14.00\">y</text>\n",
       "</g>\n",
       "<!-- mu&#45;&gt;y -->\n",
       "<g id=\"edge2\" class=\"edge\">\n",
       "<title>mu&#45;&gt;y</title>\n",
       "<path fill=\"none\" stroke=\"black\" d=\"M34.87,-120.23C40.02,-109.6 46.85,-95.5 52.7,-83.41\"/>\n",
       "<polygon fill=\"black\" stroke=\"black\" points=\"55.93,-84.77 57.14,-74.24 49.63,-81.72 55.93,-84.77\"/>\n",
       "</g>\n",
       "<!-- sigma -->\n",
       "<g id=\"node2\" class=\"node\">\n",
       "<title>sigma</title>\n",
       "<ellipse fill=\"white\" stroke=\"black\" cx=\"104\" cy=\"-137.5\" rx=\"32.49\" ry=\"18\"/>\n",
       "<text text-anchor=\"middle\" x=\"104\" y=\"-133.8\" font-family=\"Times,serif\" font-size=\"14.00\">sigma</text>\n",
       "</g>\n",
       "<!-- sigma&#45;&gt;y -->\n",
       "<g id=\"edge1\" class=\"edge\">\n",
       "<title>sigma&#45;&gt;y</title>\n",
       "<path fill=\"none\" stroke=\"black\" d=\"M95.73,-119.85C90.47,-109.27 83.56,-95.36 77.63,-83.41\"/>\n",
       "<polygon fill=\"black\" stroke=\"black\" points=\"80.71,-81.75 73.13,-74.35 74.44,-84.87 80.71,-81.75\"/>\n",
       "</g>\n",
       "<!-- distribution_description_node -->\n",
       "<g id=\"node4\" class=\"node\">\n",
       "<title>distribution_description_node</title>\n",
       "<text text-anchor=\"start\" x=\"162\" y=\"-148.8\" font-family=\"Times,serif\" font-size=\"14.00\">mu ~ Normal</text>\n",
       "<text text-anchor=\"start\" x=\"162\" y=\"-133.8\" font-family=\"Times,serif\" font-size=\"14.00\">sigma ~ Exponential</text>\n",
       "<text text-anchor=\"start\" x=\"162\" y=\"-118.8\" font-family=\"Times,serif\" font-size=\"14.00\">y ~ Normal</text>\n",
       "</g>\n",
       "</g>\n",
       "</svg>\n"
      ],
      "text/plain": [
       "<graphviz.graphs.Digraph at 0x145f6ef70>"
      ]
     },
     "execution_count": 42,
     "metadata": {},
     "output_type": "execute_result"
    }
   ],
   "source": [
    "pyro.render_model(model_4m3, render_distributions=True, render_params=True)"
   ]
  },
  {
   "cell_type": "code",
   "execution_count": 41,
   "metadata": {
    "execution": {
     "iopub.execute_input": "2022-07-26T23:51:28.856645Z",
     "iopub.status.busy": "2022-07-26T23:51:28.856302Z",
     "iopub.status.idle": "2022-07-26T23:51:29.035485Z",
     "shell.execute_reply": "2022-07-26T23:51:29.034948Z",
     "shell.execute_reply.started": "2022-07-26T23:51:28.856619Z"
    },
    "tags": []
   },
   "outputs": [
    {
     "data": {
      "text/plain": [
       "<AxesSubplot:ylabel='Count'>"
      ]
     },
     "execution_count": 41,
     "metadata": {},
     "output_type": "execute_result"
    },
    {
     "data": {
      "image/png": "[encoded data removed]",
      "text/plain": [
       "<Figure size 432x288 with 1 Axes>"
      ]
     },
     "metadata": {
      "needs_background": "light"
     },
     "output_type": "display_data"
    }
   ],
   "source": [
    "samples = model_4m3(N=1000) \n",
    "\n",
    "sns.histplot(samples, kde=True)"
   ]
  },
  {
   "cell_type": "markdown",
   "metadata": {},
   "source": [
    "# 4M3"
   ]
  },
  {
   "cell_type": "markdown",
   "metadata": {
    "execution": {
     "iopub.execute_input": "2022-07-26T23:42:23.981830Z",
     "iopub.status.busy": "2022-07-26T23:42:23.981460Z",
     "iopub.status.idle": "2022-07-26T23:42:23.985446Z",
     "shell.execute_reply": "2022-07-26T23:42:23.984439Z",
     "shell.execute_reply.started": "2022-07-26T23:42:23.981804Z"
    }
   },
   "source": [
    "mathematical model definition"
   ]
  },
  {
   "cell_type": "markdown",
   "metadata": {},
   "source": [
    "$\n",
    "y_i \\sim \\text{Normal}(\\mu, \\sigma)\\newline\n",
    "\\mu_i = a + b*x_i\\newline\n",
    "a \\sim \\text{Normal}(0, 10)\\newline\n",
    "b \\sim \\text{Uniform}(0, 1)\\newline\n",
    "\\sigma \\sim \\text{Exponential}(1)\\newline\n",
    "$"
   ]
  },
  {
   "cell_type": "markdown",
   "metadata": {},
   "source": [
    "# 4M4"
   ]
  },
  {
   "cell_type": "markdown",
   "metadata": {},
   "source": [
    "$\n",
    "height_i \\sim \\text{Normal}(\\mu, \\sigma)\\newline\n",
    "\\mu_i = a + b*year_i\\newline\n",
    "a \\sim \\text{Normal}(160, 50)\\newline\n",
    "b \\sim \\text{Normal}(10, 5)\\newline\n",
    "\\sigma \\sim \\text{Exponential}(1)\\newline\n",
    "$"
   ]
  },
  {
   "cell_type": "code",
   "execution_count": 47,
   "metadata": {
    "execution": {
     "iopub.execute_input": "2022-07-27T00:02:46.739825Z",
     "iopub.status.busy": "2022-07-27T00:02:46.739489Z",
     "iopub.status.idle": "2022-07-27T00:02:46.747562Z",
     "shell.execute_reply": "2022-07-27T00:02:46.746843Z",
     "shell.execute_reply.started": "2022-07-27T00:02:46.739801Z"
    },
    "tags": []
   },
   "outputs": [
    {
     "data": {
      "text/plain": [
       "tensor([1992, 1990, 1997, 1994, 1990], dtype=torch.int32)"
      ]
     },
     "execution_count": 47,
     "metadata": {},
     "output_type": "execute_result"
    }
   ],
   "source": [
    "dist.Uniform(1990, 2000).sample(torch.Size([5])).int()"
   ]
  },
  {
   "cell_type": "code",
   "execution_count": 65,
   "metadata": {
    "execution": {
     "iopub.execute_input": "2022-07-27T00:09:21.428170Z",
     "iopub.status.busy": "2022-07-27T00:09:21.427565Z",
     "iopub.status.idle": "2022-07-27T00:09:21.573579Z",
     "shell.execute_reply": "2022-07-27T00:09:21.573023Z",
     "shell.execute_reply.started": "2022-07-27T00:09:21.428144Z"
    },
    "tags": []
   },
   "outputs": [
    {
     "data": {
      "text/plain": [
       "<AxesSubplot:ylabel='Count'>"
      ]
     },
     "execution_count": 65,
     "metadata": {},
     "output_type": "execute_result"
    },
    {
     "data": {
      "image/png": "[encoded data removed]",
      "text/plain": [
       "<Figure size 432x288 with 1 Axes>"
      ]
     },
     "metadata": {
      "needs_background": "light"
     },
     "output_type": "display_data"
    }
   ],
   "source": [
    "# intercept prior\n",
    "a = dist.Normal(tensor(120.), tensor(40.)).sample(torch.Size([1000]))\n",
    "sns.histplot(a)"
   ]
  },
  {
   "cell_type": "code",
   "execution_count": 67,
   "metadata": {
    "execution": {
     "iopub.execute_input": "2022-07-27T00:10:37.066632Z",
     "iopub.status.busy": "2022-07-27T00:10:37.066022Z",
     "iopub.status.idle": "2022-07-27T00:10:37.205150Z",
     "shell.execute_reply": "2022-07-27T00:10:37.204528Z",
     "shell.execute_reply.started": "2022-07-27T00:10:37.066606Z"
    },
    "tags": []
   },
   "outputs": [
    {
     "data": {
      "text/plain": [
       "<AxesSubplot:ylabel='Count'>"
      ]
     },
     "execution_count": 67,
     "metadata": {},
     "output_type": "execute_result"
    },
    {
     "data": {
      "image/png": "[encoded data removed]",
      "text/plain": [
       "<Figure size 432x288 with 1 Axes>"
      ]
     },
     "metadata": {
      "needs_background": "light"
     },
     "output_type": "display_data"
    }
   ],
   "source": [
    "# slope prior\n",
    "b = dist.Normal(tensor(10.), tensor(4.)).sample(torch.Size([1000]))\n",
    "sns.histplot(b)"
   ]
  },
  {
   "cell_type": "code",
   "execution_count": 113,
   "metadata": {
    "execution": {
     "iopub.execute_input": "2022-07-27T00:19:14.546018Z",
     "iopub.status.busy": "2022-07-27T00:19:14.545400Z",
     "iopub.status.idle": "2022-07-27T00:19:14.711277Z",
     "shell.execute_reply": "2022-07-27T00:19:14.710774Z",
     "shell.execute_reply.started": "2022-07-27T00:19:14.545990Z"
    },
    "tags": []
   },
   "outputs": [
    {
     "data": {
      "text/plain": [
       "<AxesSubplot:ylabel='Count'>"
      ]
     },
     "execution_count": 113,
     "metadata": {},
     "output_type": "execute_result"
    },
    {
     "data": {
      "image/png": "[encoded data removed]",
      "text/plain": [
       "<Figure size 432x288 with 1 Axes>"
      ]
     },
     "metadata": {
      "needs_background": "light"
     },
     "output_type": "display_data"
    }
   ],
   "source": [
    "# slope prior\n",
    "sigma = dist.Exponential(tensor(0.1)).sample(torch.Size([1000]))\n",
    "sns.histplot(sigma)"
   ]
  },
  {
   "cell_type": "code",
   "execution_count": 123,
   "metadata": {
    "execution": {
     "iopub.execute_input": "2022-07-27T00:20:38.295223Z",
     "iopub.status.busy": "2022-07-27T00:20:38.294632Z",
     "iopub.status.idle": "2022-07-27T00:20:38.302951Z",
     "shell.execute_reply": "2022-07-27T00:20:38.301742Z",
     "shell.execute_reply.started": "2022-07-27T00:20:38.295197Z"
    },
    "tags": []
   },
   "outputs": [],
   "source": [
    "def model_4m4(year=None, height=None, N=None):\n",
    "    \n",
    "    if year is not None:\n",
    "        assert height is not None\n",
    "        assert len(year)==len(height)\n",
    "        assert isinstance(year, int)\n",
    "        \n",
    "    a = pyro.sample('a', dist.Normal(tensor(120.), tensor(40.)))\n",
    "    b = pyro.sample('b', dist.Normal(tensor(10.), tensor(4.)))\n",
    "    sigma = pyro.sample('sigma', dist.Exponential(tensor(.1),))\n",
    "    \n",
    "    if N is None:\n",
    "        N = 1 if year is None else len(year)\n",
    "        \n",
    "    with pyro.plate('data_loop', N):\n",
    "        year = pyro.sample('year', dist.Uniform(0, 10), obs=year).int()\n",
    "#         print(year)\n",
    "        mu = a + b * year\n",
    "#         print(mu)\n",
    "        height = pyro.sample('height', dist.Normal(mu, sigma), obs=height)\n",
    "#         print(height)\n",
    "        return year, height"
   ]
  },
  {
   "cell_type": "code",
   "execution_count": 124,
   "metadata": {
    "execution": {
     "iopub.execute_input": "2022-07-27T00:20:38.703333Z",
     "iopub.status.busy": "2022-07-27T00:20:38.702712Z",
     "iopub.status.idle": "2022-07-27T00:20:38.710556Z",
     "shell.execute_reply": "2022-07-27T00:20:38.709846Z",
     "shell.execute_reply.started": "2022-07-27T00:20:38.703306Z"
    },
    "tags": []
   },
   "outputs": [
    {
     "name": "stdout",
     "output_type": "stream",
     "text": [
      "year_samples[:10]=tensor([8, 8, 5, 9, 6, 2, 5, 5, 6, 0], dtype=torch.int32)\n",
      "height_samples[:10]=tensor([283.0759, 298.9780, 224.5552, 300.6707, 249.4370, 175.2711, 235.8163,\n",
      "        226.0534, 253.9278, 146.9803])\n"
     ]
    }
   ],
   "source": [
    "# generate samples\n",
    "pyro.clear_param_store()\n",
    "year_samples, height_samples = model_4m4(N=2000)\n",
    "print(f\"{year_samples[:10]=}\")\n",
    "print(f\"{height_samples[:10]=}\")"
   ]
  },
  {
   "cell_type": "code",
   "execution_count": 127,
   "metadata": {
    "execution": {
     "iopub.execute_input": "2022-07-27T00:23:53.716494Z",
     "iopub.status.busy": "2022-07-27T00:23:53.715814Z",
     "iopub.status.idle": "2022-07-27T00:23:53.848817Z",
     "shell.execute_reply": "2022-07-27T00:23:53.848286Z",
     "shell.execute_reply.started": "2022-07-27T00:23:53.716463Z"
    },
    "tags": []
   },
   "outputs": [
    {
     "data": {
      "text/plain": [
       "<AxesSubplot:>"
      ]
     },
     "execution_count": 127,
     "metadata": {},
     "output_type": "execute_result"
    },
    {
     "data": {
      "image/png": "[encoded data removed]",
      "text/plain": [
       "<Figure size 432x288 with 1 Axes>"
      ]
     },
     "metadata": {
      "needs_background": "light"
     },
     "output_type": "display_data"
    }
   ],
   "source": [
    "sns.scatterplot(x=year_samples, y=height_samples, alpha=0.1)"
   ]
  },
  {
   "cell_type": "markdown",
   "metadata": {},
   "source": [
    "# 4M5"
   ]
  },
  {
   "cell_type": "markdown",
   "metadata": {},
   "source": [
    "See prior above. Slope could be constrained to positive values. Could use half-Cauchy or half-Normal prior. "
   ]
  },
  {
   "cell_type": "markdown",
   "metadata": {},
   "source": [
    "# 4M6"
   ]
  },
  {
   "cell_type": "markdown",
   "metadata": {},
   "source": [
    "Sigma priors should be constrained to values uner sqrt(64) = 8."
   ]
  },
  {
   "cell_type": "markdown",
   "metadata": {},
   "source": [
    "# 4M7"
   ]
  },
  {
   "cell_type": "code",
   "execution_count": 180,
   "metadata": {
    "execution": {
     "iopub.execute_input": "2022-07-27T04:49:47.690530Z",
     "iopub.status.busy": "2022-07-27T04:49:47.690168Z",
     "iopub.status.idle": "2022-07-27T04:49:57.701830Z",
     "shell.execute_reply": "2022-07-27T04:49:57.700959Z",
     "shell.execute_reply.started": "2022-07-27T04:49:47.690504Z"
    },
    "tags": []
   },
   "outputs": [],
   "source": [
    "howell1 = pd.read_csv(\"../data/Howell1.csv\", sep=\";\")\n",
    "d = howell1\n",
    "d2 = d[d[\"age\"] >= 18]\n",
    "\n",
    "weight_c = d2.weight - d2.weight.mean()\n",
    "\n",
    "def model(weight, height):\n",
    "    a = pyro.sample(\"a\", dist.Normal(178, 100))\n",
    "    b = pyro.sample(\"b\", dist.Normal(0, 10))\n",
    "    mu = a + b * weight \n",
    "    sigma = pyro.sample(\"sigma\", dist.Uniform(0, 50))\n",
    "    with pyro.plate(\"data\"):\n",
    "        pyro.sample(\"height\", dist.Normal(mu, sigma), obs=height)\n",
    "\n",
    "d2_weight = torch.tensor(d2[\"weight\"], dtype=torch.float)\n",
    "d2_weight_c = torch.tensor(weight_c, dtype=torch.float)\n",
    "d2_height = torch.tensor(d2[\"height\"], dtype=torch.float)\n",
    "m4_3 = MAP(model).run(d2_weight, d2_height)"
   ]
  },
  {
   "cell_type": "code",
   "execution_count": 187,
   "metadata": {
    "execution": {
     "iopub.execute_input": "2022-07-27T18:47:17.045355Z",
     "iopub.status.busy": "2022-07-27T18:47:17.044945Z",
     "iopub.status.idle": "2022-07-27T18:47:17.520688Z",
     "shell.execute_reply": "2022-07-27T18:47:17.519827Z",
     "shell.execute_reply.started": "2022-07-27T18:47:17.045328Z"
    },
    "tags": []
   },
   "outputs": [
    {
     "data": {
      "text/html": [
       "<div>\n",
       "<style scoped>\n",
       "    .dataframe tbody tr th:only-of-type {\n",
       "        vertical-align: middle;\n",
       "    }\n",
       "\n",
       "    .dataframe tbody tr th {\n",
       "        vertical-align: top;\n",
       "    }\n",
       "\n",
       "    .dataframe thead th {\n",
       "        text-align: right;\n",
       "    }\n",
       "</style>\n",
       "<table border=\"1\" class=\"dataframe\">\n",
       "  <thead>\n",
       "    <tr style=\"text-align: right;\">\n",
       "      <th></th>\n",
       "      <th>Mean</th>\n",
       "      <th>StdDev</th>\n",
       "      <th>|0.89</th>\n",
       "      <th>0.89|</th>\n",
       "      <th>a</th>\n",
       "      <th>b</th>\n",
       "      <th>sigma</th>\n",
       "    </tr>\n",
       "  </thead>\n",
       "  <tbody>\n",
       "    <tr>\n",
       "      <th>a</th>\n",
       "      <td>203.69</td>\n",
       "      <td>15.09</td>\n",
       "      <td>178.22</td>\n",
       "      <td>226.43</td>\n",
       "      <td>1.00</td>\n",
       "      <td>-0.92</td>\n",
       "      <td>0.37</td>\n",
       "    </tr>\n",
       "    <tr>\n",
       "      <th>b</th>\n",
       "      <td>0.93</td>\n",
       "      <td>0.31</td>\n",
       "      <td>0.45</td>\n",
       "      <td>1.42</td>\n",
       "      <td>-0.92</td>\n",
       "      <td>1.00</td>\n",
       "      <td>0.00</td>\n",
       "    </tr>\n",
       "    <tr>\n",
       "      <th>sigma</th>\n",
       "      <td>37.45</td>\n",
       "      <td>1.17</td>\n",
       "      <td>35.55</td>\n",
       "      <td>39.29</td>\n",
       "      <td>0.37</td>\n",
       "      <td>0.00</td>\n",
       "      <td>1.00</td>\n",
       "    </tr>\n",
       "  </tbody>\n",
       "</table>\n",
       "</div>"
      ],
      "text/plain": [
       "         Mean  StdDev   |0.89   0.89|     a     b  sigma\n",
       "a      203.69   15.09  178.22  226.43  1.00 -0.92   0.37\n",
       "b        0.93    0.31    0.45    1.42 -0.92  1.00   0.00\n",
       "sigma   37.45    1.17   35.55   39.29  0.37  0.00   1.00"
      ]
     },
     "execution_count": 187,
     "metadata": {},
     "output_type": "execute_result"
    }
   ],
   "source": [
    "precis(m4_3, corr=True)"
   ]
  },
  {
   "cell_type": "code",
   "execution_count": 186,
   "metadata": {
    "execution": {
     "iopub.execute_input": "2022-07-27T18:14:12.460184Z",
     "iopub.status.busy": "2022-07-27T18:14:12.459555Z",
     "iopub.status.idle": "2022-07-27T18:14:13.032040Z",
     "shell.execute_reply": "2022-07-27T18:14:13.031401Z",
     "shell.execute_reply.started": "2022-07-27T18:14:12.460158Z"
    }
   },
   "outputs": [
    {
     "name": "stdout",
     "output_type": "stream",
     "text": [
      "tensor([2.2762e+02, 9.4430e-02, 1.3662e+00])\n",
      "tensor([[ 1.0000, -0.9180,  0.3728],\n",
      "        [-0.9180,  1.0000,  0.0010],\n",
      "        [ 0.3728,  0.0010,  1.0000]])\n"
     ]
    }
   ],
   "source": [
    "print(vcov(m4_3).diag())\n",
    "cov = vcov(m4_3)\n",
    "print(cov / cov.diag().ger(cov.diag()).sqrt())"
   ]
  },
  {
   "cell_type": "code",
   "execution_count": null,
   "metadata": {},
   "outputs": [],
   "source": []
  }
 ],
 "metadata": {
  "kernelspec": {
   "display_name": "statistical-rethinking-env",
   "language": "python",
   "name": "statistical-rethinking-env"
  },
  "language_info": {
   "codemirror_mode": {
    "name": "ipython",
    "version": 3
   },
   "file_extension": ".py",
   "mimetype": "text/x-python",
   "name": "python",
   "nbconvert_exporter": "python",
   "pygments_lexer": "ipython3",
   "version": "3.9.13"
  }
 },
 "nbformat": 4,
 "nbformat_minor": 4
}
