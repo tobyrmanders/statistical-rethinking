{
 "cells": [
  {
   "cell_type": "code",
   "execution_count": 23,
   "metadata": {
    "execution": {
     "iopub.execute_input": "2022-07-05T19:57:39.889291Z",
     "iopub.status.busy": "2022-07-05T19:57:39.888934Z",
     "iopub.status.idle": "2022-07-05T19:57:39.894193Z",
     "shell.execute_reply": "2022-07-05T19:57:39.893286Z",
     "shell.execute_reply.started": "2022-07-05T19:57:39.889266Z"
    },
    "tags": []
   },
   "outputs": [],
   "source": [
    "import pyro\n",
    "from pyro.distributions import Bernoulli, Normal, Categorical, constraints\n",
    "\n",
    "import torch"
   ]
  },
  {
   "cell_type": "markdown",
   "metadata": {},
   "source": [
    "[Uber Open Summit 2018](https://www.youtube.com/watch?v=aLFJ5ERxt2c)"
   ]
  },
  {
   "cell_type": "code",
   "execution_count": 6,
   "metadata": {
    "execution": {
     "iopub.execute_input": "2022-07-05T19:22:26.679329Z",
     "iopub.status.busy": "2022-07-05T19:22:26.679013Z",
     "iopub.status.idle": "2022-07-05T19:22:26.684948Z",
     "shell.execute_reply": "2022-07-05T19:22:26.683654Z",
     "shell.execute_reply.started": "2022-07-05T19:22:26.679306Z"
    },
    "tags": []
   },
   "outputs": [
    {
     "data": {
      "text/plain": [
       "\u001b[0;31mInit signature:\u001b[0m \u001b[0mBernoulli\u001b[0m\u001b[0;34m(\u001b[0m\u001b[0mprobs\u001b[0m\u001b[0;34m=\u001b[0m\u001b[0;32mNone\u001b[0m\u001b[0;34m,\u001b[0m \u001b[0mlogits\u001b[0m\u001b[0;34m=\u001b[0m\u001b[0;32mNone\u001b[0m\u001b[0;34m,\u001b[0m \u001b[0mvalidate_args\u001b[0m\u001b[0;34m=\u001b[0m\u001b[0;32mNone\u001b[0m\u001b[0;34m)\u001b[0m\u001b[0;34m\u001b[0m\u001b[0;34m\u001b[0m\u001b[0m\n",
       "\u001b[0;31mDocstring:\u001b[0m     \n",
       "Wraps :class:`torch.distributions.bernoulli.Bernoulli` with\n",
       ":class:`~pyro.distributions.torch_distribution.TorchDistributionMixin`.\n",
       "\u001b[0;31mFile:\u001b[0m           /usr/local/Cellar/python@3.9/3.9.10/Frameworks/Python.framework/Versions/3.9/lib/python3.9/functools.py\n",
       "\u001b[0;31mType:\u001b[0m           DistributionMeta\n",
       "\u001b[0;31mSubclasses:\u001b[0m     \n"
      ]
     },
     "metadata": {},
     "output_type": "display_data"
    }
   ],
   "source": [
    "Bernoulli?"
   ]
  },
  {
   "cell_type": "code",
   "execution_count": 7,
   "metadata": {
    "execution": {
     "iopub.execute_input": "2022-07-05T19:22:26.884156Z",
     "iopub.status.busy": "2022-07-05T19:22:26.883823Z",
     "iopub.status.idle": "2022-07-05T19:22:26.889835Z",
     "shell.execute_reply": "2022-07-05T19:22:26.888727Z",
     "shell.execute_reply.started": "2022-07-05T19:22:26.884131Z"
    },
    "tags": []
   },
   "outputs": [
    {
     "data": {
      "text/plain": [
       "\u001b[0;31mSignature:\u001b[0m \u001b[0mpyro\u001b[0m\u001b[0;34m.\u001b[0m\u001b[0msample\u001b[0m\u001b[0;34m(\u001b[0m\u001b[0mname\u001b[0m\u001b[0;34m,\u001b[0m \u001b[0mfn\u001b[0m\u001b[0;34m,\u001b[0m \u001b[0;34m*\u001b[0m\u001b[0margs\u001b[0m\u001b[0;34m,\u001b[0m \u001b[0;34m**\u001b[0m\u001b[0mkwargs\u001b[0m\u001b[0;34m)\u001b[0m\u001b[0;34m\u001b[0m\u001b[0;34m\u001b[0m\u001b[0m\n",
       "\u001b[0;31mDocstring:\u001b[0m\n",
       "Calls the stochastic function ``fn`` with additional side-effects depending\n",
       "on ``name`` and the enclosing context (e.g. an inference algorithm).  See\n",
       "`Introduction to Pyro <http://pyro.ai/examples/intro_long.html>`_ for a discussion.\n",
       "\n",
       ":param name: name of sample\n",
       ":param fn: distribution class or function\n",
       ":param obs: observed datum (optional; should only be used in context of\n",
       "    inference) optionally specified in kwargs\n",
       ":param ~torch.Tensor obs_mask: Optional boolean tensor mask of shape\n",
       "    broadcastable with ``fn.batch_shape``. If provided, events with\n",
       "    mask=True will be conditioned on ``obs`` and remaining events will be\n",
       "    imputed by sampling. This introduces a latent sample site named ``name\n",
       "    + \"_unobserved\"`` which should be used by guides.\n",
       ":type obs_mask: bool or ~torch.Tensor\n",
       ":param dict infer: Optional dictionary of inference parameters specified\n",
       "    in kwargs. See inference documentation for details.\n",
       ":returns: sample\n",
       "\u001b[0;31mFile:\u001b[0m      ~/Library/Caches/pypoetry/virtualenvs/statistical-rethinking-64KwZK9C-py3.9/lib/python3.9/site-packages/pyro/primitives.py\n",
       "\u001b[0;31mType:\u001b[0m      function\n"
      ]
     },
     "metadata": {},
     "output_type": "display_data"
    }
   ],
   "source": [
    "pyro.sample?"
   ]
  },
  {
   "cell_type": "code",
   "execution_count": 8,
   "metadata": {
    "execution": {
     "iopub.execute_input": "2022-07-05T19:22:28.600905Z",
     "iopub.status.busy": "2022-07-05T19:22:28.600545Z",
     "iopub.status.idle": "2022-07-05T19:22:28.607017Z",
     "shell.execute_reply": "2022-07-05T19:22:28.606112Z",
     "shell.execute_reply.started": "2022-07-05T19:22:28.600879Z"
    },
    "tags": []
   },
   "outputs": [
    {
     "name": "stdout",
     "output_type": "stream",
     "text": [
      "tensor(1.)\n"
     ]
    }
   ],
   "source": [
    "# sample primitive registers a coin toss with Pyro\n",
    "x = pyro.sample(\"x\", Bernoulli(0.5))\n",
    "assert isinstance(x, torch.Tensor)\n",
    "\n",
    "print(x)"
   ]
  },
  {
   "cell_type": "code",
   "execution_count": 15,
   "metadata": {
    "execution": {
     "iopub.execute_input": "2022-07-05T19:25:14.798720Z",
     "iopub.status.busy": "2022-07-05T19:25:14.798437Z",
     "iopub.status.idle": "2022-07-05T19:25:14.804731Z",
     "shell.execute_reply": "2022-07-05T19:25:14.804027Z",
     "shell.execute_reply.started": "2022-07-05T19:25:14.798702Z"
    },
    "tags": []
   },
   "outputs": [
    {
     "data": {
      "text/plain": [
       "[1.0, 0.0, 1.0]"
      ]
     },
     "execution_count": 15,
     "metadata": {},
     "output_type": "execute_result"
    }
   ],
   "source": [
    "# obs arg allows you to fit dist params to match the observed data\n",
    "data = [1., 0., 1.]\n",
    "pyro.sample(\"data\", Normal(0., 1.), obs=data, )"
   ]
  },
  {
   "cell_type": "code",
   "execution_count": 17,
   "metadata": {
    "execution": {
     "iopub.execute_input": "2022-07-05T19:27:32.648415Z",
     "iopub.status.busy": "2022-07-05T19:27:32.648070Z",
     "iopub.status.idle": "2022-07-05T19:27:32.663143Z",
     "shell.execute_reply": "2022-07-05T19:27:32.662417Z",
     "shell.execute_reply.started": "2022-07-05T19:27:32.648388Z"
    }
   },
   "outputs": [],
   "source": [
    "theta = pyro.param(\"theta\", torch.ones(100), constraint=constraints.positive)"
   ]
  },
  {
   "cell_type": "code",
   "execution_count": 18,
   "metadata": {
    "execution": {
     "iopub.execute_input": "2022-07-05T19:27:46.957208Z",
     "iopub.status.busy": "2022-07-05T19:27:46.956889Z",
     "iopub.status.idle": "2022-07-05T19:27:46.964653Z",
     "shell.execute_reply": "2022-07-05T19:27:46.963845Z",
     "shell.execute_reply.started": "2022-07-05T19:27:46.957184Z"
    }
   },
   "outputs": [
    {
     "data": {
      "text/plain": [
       "tensor([1., 1., 1., 1., 1., 1., 1., 1., 1., 1., 1., 1., 1., 1., 1., 1., 1., 1.,\n",
       "        1., 1., 1., 1., 1., 1., 1., 1., 1., 1., 1., 1., 1., 1., 1., 1., 1., 1.,\n",
       "        1., 1., 1., 1., 1., 1., 1., 1., 1., 1., 1., 1., 1., 1., 1., 1., 1., 1.,\n",
       "        1., 1., 1., 1., 1., 1., 1., 1., 1., 1., 1., 1., 1., 1., 1., 1., 1., 1.,\n",
       "        1., 1., 1., 1., 1., 1., 1., 1., 1., 1., 1., 1., 1., 1., 1., 1., 1., 1.,\n",
       "        1., 1., 1., 1., 1., 1., 1., 1., 1., 1.], grad_fn=<AddBackward0>)"
      ]
     },
     "execution_count": 18,
     "metadata": {},
     "output_type": "execute_result"
    }
   ],
   "source": [
    "theta"
   ]
  },
  {
   "cell_type": "markdown",
   "metadata": {},
   "source": [
    "# notes\n",
    "[11:30] -- Does pearl-pgm efficiently use the vectorized vs. the serial syntax, i.e. context manager?\n",
    "[13:09] -- \"You can think of Pyro programs as PGMs + control flow\""
   ]
  },
  {
   "cell_type": "code",
   "execution_count": 41,
   "metadata": {
    "execution": {
     "iopub.execute_input": "2022-07-05T19:58:59.956543Z",
     "iopub.status.busy": "2022-07-05T19:58:59.956203Z",
     "iopub.status.idle": "2022-07-05T19:58:59.960930Z",
     "shell.execute_reply": "2022-07-05T19:58:59.959732Z",
     "shell.execute_reply.started": "2022-07-05T19:58:59.956518Z"
    },
    "tags": []
   },
   "outputs": [],
   "source": [
    "def helper(c):\n",
    "    x = pyro.sample(\"x\", Normal(0., 10.))\n",
    "    return x[c]"
   ]
  },
  {
   "cell_type": "code",
   "execution_count": 40,
   "metadata": {
    "execution": {
     "iopub.execute_input": "2022-07-05T19:58:10.143800Z",
     "iopub.status.busy": "2022-07-05T19:58:10.143482Z",
     "iopub.status.idle": "2022-07-05T19:58:10.149459Z",
     "shell.execute_reply": "2022-07-05T19:58:10.148491Z",
     "shell.execute_reply.started": "2022-07-05T19:58:10.143777Z"
    },
    "tags": []
   },
   "outputs": [
    {
     "name": "stdout",
     "output_type": "stream",
     "text": [
      "tensor(2)\n"
     ]
    }
   ],
   "source": [
    "p = pyro.param(\"p\", torch.ones(10)/10, constraint=constraints.simplex)\n",
    "c = pyro.sample(\"c\", Categorical(p))\n",
    "\n",
    "print(c)"
   ]
  },
  {
   "cell_type": "code",
   "execution_count": 42,
   "metadata": {
    "execution": {
     "iopub.execute_input": "2022-07-05T19:59:16.485686Z",
     "iopub.status.busy": "2022-07-05T19:59:16.485347Z",
     "iopub.status.idle": "2022-07-05T19:59:16.518847Z",
     "shell.execute_reply": "2022-07-05T19:59:16.517028Z",
     "shell.execute_reply.started": "2022-07-05T19:59:16.485661Z"
    },
    "tags": []
   },
   "outputs": [
    {
     "ename": "IndexError",
     "evalue": "too many indices for tensor of dimension 0",
     "output_type": "error",
     "traceback": [
      "\u001b[0;31m---------------------------------------------------------------------------\u001b[0m",
      "\u001b[0;31mIndexError\u001b[0m                                Traceback (most recent call last)",
      "Input \u001b[0;32mIn [42]\u001b[0m, in \u001b[0;36m<cell line: 1>\u001b[0;34m()\u001b[0m\n\u001b[0;32m----> 1\u001b[0m Normal(\u001b[43mhelper\u001b[49m\u001b[43m(\u001b[49m\u001b[43mc\u001b[49m\u001b[43m \u001b[49m\u001b[38;5;241;43m-\u001b[39;49m\u001b[43m \u001b[49m\u001b[38;5;241;43m1\u001b[39;49m\u001b[43m)\u001b[49m, \u001b[38;5;241m1.\u001b[39m)\n",
      "Input \u001b[0;32mIn [41]\u001b[0m, in \u001b[0;36mhelper\u001b[0;34m(c)\u001b[0m\n\u001b[1;32m      1\u001b[0m \u001b[38;5;28;01mdef\u001b[39;00m \u001b[38;5;21mhelper\u001b[39m(c):\n\u001b[1;32m      2\u001b[0m     x \u001b[38;5;241m=\u001b[39m pyro\u001b[38;5;241m.\u001b[39msample(\u001b[38;5;124m\"\u001b[39m\u001b[38;5;124mx\u001b[39m\u001b[38;5;124m\"\u001b[39m, Normal(\u001b[38;5;241m0.\u001b[39m, \u001b[38;5;241m10.\u001b[39m))\n\u001b[0;32m----> 3\u001b[0m     \u001b[38;5;28;01mreturn\u001b[39;00m \u001b[43mx\u001b[49m\u001b[43m[\u001b[49m\u001b[43mc\u001b[49m\u001b[43m]\u001b[49m\n",
      "\u001b[0;31mIndexError\u001b[0m: too many indices for tensor of dimension 0"
     ]
    }
   ],
   "source": [
    "Normal(helper(c - 1), 1.)"
   ]
  },
  {
   "cell_type": "markdown",
   "metadata": {},
   "source": [
    "# Note\n",
    "[22:00] : The style encoder in the guide function separates the number (mnist) from the style embedding, so numbers can share a style. "
   ]
  }
 ],
 "metadata": {
  "kernelspec": {
   "display_name": "statistical-rethinking-env",
   "language": "python",
   "name": "statistical-rethinking-env"
  },
  "language_info": {
   "codemirror_mode": {
    "name": "ipython",
    "version": 3
   },
   "file_extension": ".py",
   "mimetype": "text/x-python",
   "name": "python",
   "nbconvert_exporter": "python",
   "pygments_lexer": "ipython3",
   "version": "3.9.10"
  }
 },
 "nbformat": 4,
 "nbformat_minor": 4
}
