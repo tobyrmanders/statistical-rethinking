{
 "cells": [
  {
   "cell_type": "code",
   "execution_count": 1,
   "id": "999bddda",
   "metadata": {
    "execution": {
     "iopub.execute_input": "2022-06-27T21:53:24.078927Z",
     "iopub.status.busy": "2022-06-27T21:53:24.078522Z",
     "iopub.status.idle": "2022-06-27T21:53:25.426171Z",
     "shell.execute_reply": "2022-06-27T21:53:25.425567Z",
     "shell.execute_reply.started": "2022-06-27T21:53:24.078861Z"
    },
    "tags": []
   },
   "outputs": [],
   "source": [
    "import pyro\n",
    "from pyro import distributions\n",
    "import torch\n",
    "from torch import tensor\n",
    "import matplotlib.pyplot as plt"
   ]
  },
  {
   "cell_type": "markdown",
   "id": "f0c74871-3e4d-49a9-8ef6-9105b90ba92a",
   "metadata": {},
   "source": [
    "## 2M1"
   ]
  },
  {
   "cell_type": "code",
   "execution_count": 20,
   "id": "171c6cda-88ac-4454-b3ac-823a61be4280",
   "metadata": {
    "execution": {
     "iopub.execute_input": "2022-06-27T21:58:07.948913Z",
     "iopub.status.busy": "2022-06-27T21:58:07.948128Z",
     "iopub.status.idle": "2022-06-27T21:58:07.953173Z",
     "shell.execute_reply": "2022-06-27T21:58:07.952067Z",
     "shell.execute_reply.started": "2022-06-27T21:58:07.948865Z"
    }
   },
   "outputs": [],
   "source": [
    "n_steps = 30"
   ]
  },
  {
   "cell_type": "code",
   "execution_count": 30,
   "id": "fa6197fb",
   "metadata": {
    "execution": {
     "iopub.execute_input": "2022-06-27T22:01:50.450303Z",
     "iopub.status.busy": "2022-06-27T22:01:50.449710Z",
     "iopub.status.idle": "2022-06-27T22:01:50.456768Z",
     "shell.execute_reply": "2022-06-27T22:01:50.455765Z",
     "shell.execute_reply.started": "2022-06-27T22:01:50.450278Z"
    },
    "tags": []
   },
   "outputs": [],
   "source": [
    "def compute_posterior(observations, n_steps, prior=None):\n",
    "    p_grid = torch.linspace(start=0, end=1, steps=n_steps)\n",
    "    if prior is None:\n",
    "        prior = tensor([1.] * n_steps)\n",
    "    likelihood = distributions.Binomial( total_count=len(observations), probs=p_grid).log_prob(\n",
    "        tensor(sum(observations), dtype=float)).exp()\n",
    "    unstd_posterior = likelihood * prior\n",
    "    posterior = unstd_posterior / unstd_posterior.sum()\n",
    "    return p_grid, posterior\n",
    "\n",
    "def compute_and_plot_posterior(observations, n_steps=30, prior=None):\n",
    "    p_grid, posterior = compute_posterior(observations, n_steps, prior)\n",
    "    f, ax = plt.subplots()\n",
    "    ax.scatter(p_grid, posterior)\n",
    "    return ax"
   ]
  },
  {
   "cell_type": "code",
   "execution_count": 31,
   "id": "e157305a-fcd8-40e4-b8f8-a909fc570958",
   "metadata": {
    "execution": {
     "iopub.execute_input": "2022-06-27T22:01:50.784631Z",
     "iopub.status.busy": "2022-06-27T22:01:50.784276Z",
     "iopub.status.idle": "2022-06-27T22:01:50.900170Z",
     "shell.execute_reply": "2022-06-27T22:01:50.899579Z",
     "shell.execute_reply.started": "2022-06-27T22:01:50.784603Z"
    },
    "tags": []
   },
   "outputs": [
    {
     "data": {
      "text/plain": [
       "<AxesSubplot:>"
      ]
     },
     "execution_count": 31,
     "metadata": {},
     "output_type": "execute_result"
    },
    {
     "data": {
      "image/png": "[encoded data removed]",
      "text/plain": [
       "<Figure size 432x288 with 1 Axes>"
      ]
     },
     "metadata": {
      "needs_background": "light"
     },
     "output_type": "display_data"
    }
   ],
   "source": [
    "obs1 = [1, 1, 1]\n",
    "compute_and_plot_posterior(obs1)"
   ]
  },
  {
   "cell_type": "code",
   "execution_count": 32,
   "id": "1ece821f-7480-4da8-b7c7-8a8fd0cb6360",
   "metadata": {
    "execution": {
     "iopub.execute_input": "2022-06-27T22:01:51.054048Z",
     "iopub.status.busy": "2022-06-27T22:01:51.053693Z",
     "iopub.status.idle": "2022-06-27T22:01:51.261563Z",
     "shell.execute_reply": "2022-06-27T22:01:51.260985Z",
     "shell.execute_reply.started": "2022-06-27T22:01:51.054025Z"
    },
    "tags": []
   },
   "outputs": [
    {
     "data": {
      "text/plain": [
       "<AxesSubplot:>"
      ]
     },
     "execution_count": 32,
     "metadata": {},
     "output_type": "execute_result"
    },
    {
     "data": {
      "image/png": "[encoded data removed]",
      "text/plain": [
       "<Figure size 432x288 with 1 Axes>"
      ]
     },
     "metadata": {
      "needs_background": "light"
     },
     "output_type": "display_data"
    }
   ],
   "source": [
    "obs2 = [1, 1, 1, 0]\n",
    "compute_and_plot_posterior(obs2)"
   ]
  },
  {
   "cell_type": "code",
   "execution_count": 33,
   "id": "59d90194-4c85-4dea-ac52-4ac20c720659",
   "metadata": {
    "execution": {
     "iopub.execute_input": "2022-06-27T22:01:51.368815Z",
     "iopub.status.busy": "2022-06-27T22:01:51.368486Z",
     "iopub.status.idle": "2022-06-27T22:01:51.482179Z",
     "shell.execute_reply": "2022-06-27T22:01:51.481584Z",
     "shell.execute_reply.started": "2022-06-27T22:01:51.368790Z"
    },
    "tags": []
   },
   "outputs": [
    {
     "data": {
      "text/plain": [
       "<AxesSubplot:>"
      ]
     },
     "execution_count": 33,
     "metadata": {},
     "output_type": "execute_result"
    },
    {
     "data": {
      "image/png": "[encoded data removed]",
      "text/plain": [
       "<Figure size 432x288 with 1 Axes>"
      ]
     },
     "metadata": {
      "needs_background": "light"
     },
     "output_type": "display_data"
    }
   ],
   "source": [
    "obs3 = [0, 1, 1, 0, 1, 1, 1]\n",
    "compute_and_plot_posterior(obs3)"
   ]
  },
  {
   "cell_type": "markdown",
   "id": "3ab59a47-78a5-44e2-85c8-813b345cc419",
   "metadata": {},
   "source": [
    "## 2M2"
   ]
  },
  {
   "cell_type": "code",
   "execution_count": 34,
   "id": "fec55012-70a5-4b88-b6a2-ff94d81be469",
   "metadata": {
    "execution": {
     "iopub.execute_input": "2022-06-27T22:01:52.406988Z",
     "iopub.status.busy": "2022-06-27T22:01:52.406628Z",
     "iopub.status.idle": "2022-06-27T22:01:52.527495Z",
     "shell.execute_reply": "2022-06-27T22:01:52.526891Z",
     "shell.execute_reply.started": "2022-06-27T22:01:52.406963Z"
    },
    "tags": []
   },
   "outputs": [
    {
     "data": {
      "text/plain": [
       "<AxesSubplot:>"
      ]
     },
     "execution_count": 34,
     "metadata": {},
     "output_type": "execute_result"
    },
    {
     "data": {
      "image/png": "[encoded data removed]",
      "text/plain": [
       "<Figure size 432x288 with 1 Axes>"
      ]
     },
     "metadata": {
      "needs_background": "light"
     },
     "output_type": "display_data"
    }
   ],
   "source": [
    "p_grid = torch.linspace(start=0, end=1, steps=n_steps)\n",
    "prior = tensor([0 if p<0.5 else 1 for p in p_grid])\n",
    "compute_and_plot_posterior(obs1, prior=prior)"
   ]
  },
  {
   "cell_type": "code",
   "execution_count": 36,
   "id": "dd04dfa3-36e7-4265-9c2e-df14d78cf641",
   "metadata": {
    "execution": {
     "iopub.execute_input": "2022-06-27T22:02:15.696501Z",
     "iopub.status.busy": "2022-06-27T22:02:15.696144Z",
     "iopub.status.idle": "2022-06-27T22:02:15.808788Z",
     "shell.execute_reply": "2022-06-27T22:02:15.808181Z",
     "shell.execute_reply.started": "2022-06-27T22:02:15.696475Z"
    },
    "tags": []
   },
   "outputs": [
    {
     "data": {
      "text/plain": [
       "<AxesSubplot:>"
      ]
     },
     "execution_count": 36,
     "metadata": {},
     "output_type": "execute_result"
    },
    {
     "data": {
      "image/png": "[encoded data removed]",
      "text/plain": [
       "<Figure size 432x288 with 1 Axes>"
      ]
     },
     "metadata": {
      "needs_background": "light"
     },
     "output_type": "display_data"
    }
   ],
   "source": [
    "compute_and_plot_posterior(obs2, prior=prior)"
   ]
  },
  {
   "cell_type": "code",
   "execution_count": 37,
   "id": "59ec6382-c177-4b00-8d4c-c88a555929d7",
   "metadata": {
    "execution": {
     "iopub.execute_input": "2022-06-27T22:02:31.228659Z",
     "iopub.status.busy": "2022-06-27T22:02:31.228281Z",
     "iopub.status.idle": "2022-06-27T22:02:31.340549Z",
     "shell.execute_reply": "2022-06-27T22:02:31.339934Z",
     "shell.execute_reply.started": "2022-06-27T22:02:31.228631Z"
    }
   },
   "outputs": [
    {
     "data": {
      "text/plain": [
       "<AxesSubplot:>"
      ]
     },
     "execution_count": 37,
     "metadata": {},
     "output_type": "execute_result"
    },
    {
     "data": {
      "image/png": "[encoded data removed]",
      "text/plain": [
       "<Figure size 432x288 with 1 Axes>"
      ]
     },
     "metadata": {
      "needs_background": "light"
     },
     "output_type": "display_data"
    }
   ],
   "source": [
    "compute_and_plot_posterior(obs3, prior=prior)"
   ]
  },
  {
   "cell_type": "markdown",
   "id": "f46bd5d6-b1a2-4363-b476-4377a5e0f921",
   "metadata": {},
   "source": [
    "## 2M3"
   ]
  },
  {
   "cell_type": "markdown",
   "id": "66ec4dc4-1fb0-4332-800e-8f4c97c5662b",
   "metadata": {},
   "source": [
    "$\n",
    "P(L|E) = 0.3 \\\\\n",
    "P(L|M) = 1.0 \\\\\n",
    "P(E) = 0.5 \\\\\n",
    "P(M) = 0.5 \\\\\n",
    "P(E|L) = ? \\\\\n",
    "--------- \\\\\n",
    "P(E|L) = \\frac{P(L|E) * P(E)}{P(L)} \\\\\n",
    "P(E|L) = \\frac{P(L|E) * P(E)}{P(L|E)P(E) + P(L|M)*P(M)} \\\\\n",
    "P(E|L) = \\frac{0.15}{0.15 + 0.5} \\\\\n",
    "P(E|L) ~ 0.23\n",
    "$\n"
   ]
  },
  {
   "cell_type": "markdown",
   "id": "e898a3e1-d336-4dce-9c5b-17cd9a846986",
   "metadata": {
    "execution": {
     "iopub.execute_input": "2022-06-27T22:20:53.896963Z",
     "iopub.status.busy": "2022-06-27T22:20:53.896597Z",
     "iopub.status.idle": "2022-06-27T22:20:53.901118Z",
     "shell.execute_reply": "2022-06-27T22:20:53.899922Z",
     "shell.execute_reply.started": "2022-06-27T22:20:53.896937Z"
    }
   },
   "source": [
    "## 2M4"
   ]
  },
  {
   "cell_type": "markdown",
   "id": "af5dcadd-9308-41a8-bbff-b58f6a8add9a",
   "metadata": {},
   "source": [
    "Number of ways for each card to produce the observation (1 black):\n",
    "- B/B: 2\n",
    "- B/W: 1\n",
    "- W/W: 0 \n",
    "\n",
    "Standardize by dividing by the sum of all paths through the garden:\n",
    "- B/B: .66\n",
    "- B/W: .33\n",
    "- W/W: 0.0"
   ]
  },
  {
   "cell_type": "markdown",
   "id": "00a9819f-9605-44f0-808e-d525c5da3224",
   "metadata": {
    "execution": {
     "iopub.execute_input": "2022-06-27T22:24:27.201238Z",
     "iopub.status.busy": "2022-06-27T22:24:27.200482Z",
     "iopub.status.idle": "2022-06-27T22:24:27.205028Z",
     "shell.execute_reply": "2022-06-27T22:24:27.203714Z",
     "shell.execute_reply.started": "2022-06-27T22:24:27.201210Z"
    }
   },
   "source": [
    "## 2M5"
   ]
  },
  {
   "cell_type": "markdown",
   "id": "24a2d09b-c76c-408a-9e54-fb949a0d58e8",
   "metadata": {
    "execution": {
     "iopub.execute_input": "2022-06-27T22:25:31.409077Z",
     "iopub.status.busy": "2022-06-27T22:25:31.408697Z",
     "iopub.status.idle": "2022-06-27T22:25:31.416075Z",
     "shell.execute_reply": "2022-06-27T22:25:31.415012Z",
     "shell.execute_reply.started": "2022-06-27T22:25:31.409047Z"
    }
   },
   "source": [
    "Number of ways for each card to produce the observation (1 black):\n",
    "- B/B: 2\n",
    "- B/B: 2\n",
    "- B/W: 1\n",
    "- W/W: 0 \n",
    "\n",
    "Standardize by dividing by the sum of all paths through the garden:\n",
    "- B/B: .8\n",
    "- B/W: .2\n",
    "- W/W: 0.0"
   ]
  },
  {
   "cell_type": "markdown",
   "id": "24c1e2ee-046b-4991-b576-b7fc8f50d843",
   "metadata": {},
   "source": [
    "## 2M6"
   ]
  },
  {
   "cell_type": "markdown",
   "id": "654f597b-25a3-4ece-a485-410ca9ead394",
   "metadata": {},
   "source": [
    "Priors:\n",
    "- B/B: 1\n",
    "- B/W: 2\n",
    "- W/W: 3\n",
    "\n",
    "Likelihood:\n",
    "- B/B: 2\n",
    "- B/W: 1\n",
    "- W/W: 0 \n",
    "\n",
    "Unstd Posterior:\n",
    "- B/B: 2\n",
    "- B/W: 2\n",
    "- W/W: 0\n",
    "\n",
    "Std Posterior:\n",
    "- B/B: 0.5\n",
    "- B/W: 0.5\n",
    "- W/W: 0.0"
   ]
  },
  {
   "cell_type": "markdown",
   "id": "fbe6bb1e-c728-4227-ae11-4930a0bfb57c",
   "metadata": {},
   "source": [
    "## 2M7"
   ]
  },
  {
   "cell_type": "markdown",
   "id": "b176e04b-c577-4249-b0a2-42237b779334",
   "metadata": {},
   "source": [
    "OBS: [B, W]\n",
    "Priors: Uniform\n",
    "Likelihood (ways):\n",
    "- B/B: 6\n",
    "- B/W: 2\n",
    "- W/W: 0 \n",
    "\n",
    "Std Posterior:\n",
    "- B/B: 0.75\n",
    "- B/W: 0.25\n",
    "- W/W: 0.0"
   ]
  },
  {
   "cell_type": "markdown",
   "id": "9ffca48e-6095-4bff-8460-ab99c4617fd1",
   "metadata": {},
   "source": [
    "## 2H1"
   ]
  },
  {
   "cell_type": "markdown",
   "id": "aaeb1175-c0e3-486b-9210-482ccf474b2d",
   "metadata": {},
   "source": [
    "$\n",
    "P(T|A) = 0.1 \\\\\n",
    "P(T|B) = 0.2 \\\\ \n",
    "P(A) = 0.5 \\\\ \n",
    "P(B) = 0.5 \\\\ \n",
    "P(T2|T)=? \\\\ \n",
    "--------- \\\\\n",
    "P(T2|T) = \\frac{P(T, T2)}{P(T)} \\\\\n",
    "P(T) = P(T|A)P(A) + P(T|B)P(B) = 0.15 \\\\ \n",
    "P(T, T2) = P(T, T2|A)P(A) + P(T, T2|B)P(B) \\\\ \n",
    "P(T, T2) = 0.01 * 0.5 + 0.04 * 0.5 \\\\ \n",
    "P(T, T2) = 0.025 \\\\ \n",
    "P(T2|T)=  0.17 \\\\ \n",
    "$"
   ]
  },
  {
   "cell_type": "markdown",
   "id": "995d1a5b-3b58-4ffd-b56a-7ecdb2390bfe",
   "metadata": {},
   "source": [
    "## 2H2"
   ]
  },
  {
   "cell_type": "markdown",
   "id": "44336207-1d52-42eb-a363-7e53cf14c54d",
   "metadata": {},
   "source": [
    "$\n",
    "P(A|T) = ? \\\\\n",
    "---------- \\\\\n",
    "P(A|T) = \\frac{P(T|A)*P(A)}{P(T)} \\\\ \n",
    "P(A|T) = \\frac{0.1 * 0.5}{0.15} \\\\ \n",
    "P(A|T) = 0.33 \\\\\n",
    "$"
   ]
  },
  {
   "cell_type": "markdown",
   "id": "06bbacb5-a663-4c22-820e-f840b8ffe911",
   "metadata": {},
   "source": [
    "## 2H3"
   ]
  },
  {
   "cell_type": "markdown",
   "id": "ad4bf383-1c41-417f-bc08-e793037da282",
   "metadata": {},
   "source": [
    "*Note: Simplest solution uses the posterior from the prior problem as the new prior!!*"
   ]
  },
  {
   "cell_type": "markdown",
   "id": "d8a7c7fd-6175-4022-bc2e-064785b10897",
   "metadata": {},
   "source": [
    "$\n",
    "P(A|TS) = ? \\\\ \n",
    "----------- \\\\ \n",
    "P(A|TS) = \\frac{P(TS|A)P(A)}{P(TS)}\n",
    "P(TS) = P(TS|A)P(A) + P(TS|B)P(B) \\\\\n",
    "P(TS|A) = P(S|TA)P(T|A) \\\\\n",
    "P(TS|A) = 0.1*0.9 = 0.09 \\\\\n",
    "P(TS|B) = P(S|TB)P(T|B) \\\\\n",
    "P(TS|B) = 0.2*0.8 = 0.16 \\\\\n",
    "P(TS) = 0.09*0.5 + 0.16*0.5 = 0.125 \\\\ \n",
    "P(A|TS) = \\frac{0.09 * 0.5}{0.125} = 0.36\\\\\n",
    "$"
   ]
  },
  {
   "cell_type": "markdown",
   "id": "f95b901b-395c-4e22-8283-f73a419a98e2",
   "metadata": {},
   "source": [
    "## 2H4"
   ]
  },
  {
   "cell_type": "markdown",
   "id": "5671aa45-b7c9-4811-9747-62c6cb150eab",
   "metadata": {},
   "source": [
    "$\n",
    "P(T_A|A) = 0.8 \\\\\n",
    "P(T_B|B) = 0.65 \\\\\n",
    "P(T_A|B) = 0.35 \\\\\n",
    "P(A|T_A) = ? \\\\\n",
    "-------- \\\\\n",
    "P(A|T_A) = \\frac{P(T_A|A)P(A)}{P(T_A)} \\\\\n",
    "P(T_A) = P(T_A|A)P(A) + P(T_A|B)P(B) \\\\\n",
    "P(T_A) = 0.675 \\\\ \n",
    "P(A|T_A) = 0.593 \\\\\n",
    "$"
   ]
  },
  {
   "cell_type": "markdown",
   "id": "5f565522-6dea-446c-91ae-b4b3365612aa",
   "metadata": {},
   "source": [
    "$\n",
    "P(A|T_A) = \\frac{P(T_A|A)P(A)}{P(T_A)} \\\\\n",
    "P(T_A) = P(T_A|A)P(A) + P(T_A|B)P(B) \\\\\n",
    "P(T_A) = 0.51 \\\\\n",
    "P(A|T_A) = \\frac{0.8 * 0.36}{0.51} \\\\\n",
    "P(A|T_A) = 0.565 \\\\\n",
    "$"
   ]
  },
  {
   "cell_type": "code",
   "execution_count": null,
   "id": "8f0844f8-d441-4756-8e34-7ba6e28c2129",
   "metadata": {},
   "outputs": [],
   "source": []
  }
 ],
 "metadata": {
  "kernelspec": {
   "display_name": "statistical-rethinking-env",
   "language": "python",
   "name": "statistical-rethinking-env"
  },
  "language_info": {
   "codemirror_mode": {
    "name": "ipython",
    "version": 3
   },
   "file_extension": ".py",
   "mimetype": "text/x-python",
   "name": "python",
   "nbconvert_exporter": "python",
   "pygments_lexer": "ipython3",
   "version": "3.9.10"
  }
 },
 "nbformat": 4,
 "nbformat_minor": 5
}
