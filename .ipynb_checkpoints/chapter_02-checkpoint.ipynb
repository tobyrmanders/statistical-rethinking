{
 "cells": [
  {
   "cell_type": "code",
   "execution_count": 1,
   "id": "999bddda",
   "metadata": {
    "execution": {
     "iopub.execute_input": "2022-06-27T21:53:24.078927Z",
     "iopub.status.busy": "2022-06-27T21:53:24.078522Z",
     "iopub.status.idle": "2022-06-27T21:53:25.426171Z",
     "shell.execute_reply": "2022-06-27T21:53:25.425567Z",
     "shell.execute_reply.started": "2022-06-27T21:53:24.078861Z"
    },
    "tags": []
   },
   "outputs": [],
   "source": [
    "import pyro\n",
    "from pyro import distributions\n",
    "import torch\n",
    "from torch import tensor\n",
    "import matplotlib.pyplot as plt"
   ]
  },
  {
   "cell_type": "markdown",
   "id": "f0c74871-3e4d-49a9-8ef6-9105b90ba92a",
   "metadata": {},
   "source": [
    "## 2M1"
   ]
  },
  {
   "cell_type": "code",
   "execution_count": 20,
   "id": "171c6cda-88ac-4454-b3ac-823a61be4280",
   "metadata": {
    "execution": {
     "iopub.execute_input": "2022-06-27T21:58:07.948913Z",
     "iopub.status.busy": "2022-06-27T21:58:07.948128Z",
     "iopub.status.idle": "2022-06-27T21:58:07.953173Z",
     "shell.execute_reply": "2022-06-27T21:58:07.952067Z",
     "shell.execute_reply.started": "2022-06-27T21:58:07.948865Z"
    }
   },
   "outputs": [],
   "source": [
    "n_steps = 30"
   ]
  },
  {
   "cell_type": "code",
   "execution_count": 30,
   "id": "fa6197fb",
   "metadata": {
    "execution": {
     "iopub.execute_input": "2022-06-27T22:01:50.450303Z",
     "iopub.status.busy": "2022-06-27T22:01:50.449710Z",
     "iopub.status.idle": "2022-06-27T22:01:50.456768Z",
     "shell.execute_reply": "2022-06-27T22:01:50.455765Z",
     "shell.execute_reply.started": "2022-06-27T22:01:50.450278Z"
    },
    "tags": []
   },
   "outputs": [],
   "source": [
    "def compute_posterior(observations, n_steps, prior=None):\n",
    "    p_grid = torch.linspace(start=0, end=1, steps=n_steps)\n",
    "    if prior is None:\n",
    "        prior = tensor([1.] * n_steps)\n",
    "    likelihood = distributions.Binomial( total_count=len(observations), probs=p_grid).log_prob(\n",
    "        tensor(sum(observations), dtype=float)).exp()\n",
    "    unstd_posterior = likelihood * prior\n",
    "    posterior = unstd_posterior / unstd_posterior.sum()\n",
    "    return p_grid, posterior\n",
    "\n",
    "def compute_and_plot_posterior(observations, n_steps=30, prior=None):\n",
    "    p_grid, posterior = compute_posterior(observations, n_steps, prior)\n",
    "    f, ax = plt.subplots()\n",
    "    ax.scatter(p_grid, posterior)\n",
    "    return ax"
   ]
  },
  {
   "cell_type": "code",
   "execution_count": 31,
   "id": "e157305a-fcd8-40e4-b8f8-a909fc570958",
   "metadata": {
    "execution": {
     "iopub.execute_input": "2022-06-27T22:01:50.784631Z",
     "iopub.status.busy": "2022-06-27T22:01:50.784276Z",
     "iopub.status.idle": "2022-06-27T22:01:50.900170Z",
     "shell.execute_reply": "2022-06-27T22:01:50.899579Z",
     "shell.execute_reply.started": "2022-06-27T22:01:50.784603Z"
    },
    "tags": []
   },
   "outputs": [
    {
     "data": {
      "text/plain": [
       "<AxesSubplot:>"
      ]
     },
     "execution_count": 31,
     "metadata": {},
     "output_type": "execute_result"
    },
    {
     "data": {
      "image/png": "[encoded data removed]",
      "text/plain": [
       "<Figure size 432x288 with 1 Axes>"
      ]
     },
     "metadata": {
      "needs_background": "light"
     },
     "output_type": "display_data"
    }
   ],
   "source": [
    "obs1 = [1, 1, 1]\n",
    "compute_and_plot_posterior(obs1)"
   ]
  },
  {
   "cell_type": "code",
   "execution_count": 32,
   "id": "1ece821f-7480-4da8-b7c7-8a8fd0cb6360",
   "metadata": {
    "execution": {
     "iopub.execute_input": "2022-06-27T22:01:51.054048Z",
     "iopub.status.busy": "2022-06-27T22:01:51.053693Z",
     "iopub.status.idle": "2022-06-27T22:01:51.261563Z",
     "shell.execute_reply": "2022-06-27T22:01:51.260985Z",
     "shell.execute_reply.started": "2022-06-27T22:01:51.054025Z"
    },
    "tags": []
   },
   "outputs": [
    {
     "data": {
      "text/plain": [
       "<AxesSubplot:>"
      ]
     },
     "execution_count": 32,
     "metadata": {},
     "output_type": "execute_result"
    },
    {
     "data": {
      "image/png": "[encoded data removed]",
      "text/plain": [
       "<Figure size 432x288 with 1 Axes>"
      ]
     },
     "metadata": {
      "needs_background": "light"
     },
     "output_type": "display_data"
    }
   ],
   "source": [
    "obs2 = [1, 1, 1, 0]\n",
    "compute_and_plot_posterior(obs2)"
   ]
  },
  {
   "cell_type": "code",
   "execution_count": 33,
   "id": "59d90194-4c85-4dea-ac52-4ac20c720659",
   "metadata": {
    "execution": {
     "iopub.execute_input": "2022-06-27T22:01:51.368815Z",
     "iopub.status.busy": "2022-06-27T22:01:51.368486Z",
     "iopub.status.idle": "2022-06-27T22:01:51.482179Z",
     "shell.execute_reply": "2022-06-27T22:01:51.481584Z",
     "shell.execute_reply.started": "2022-06-27T22:01:51.368790Z"
    },
    "tags": []
   },
   "outputs": [
    {
     "data": {
      "text/plain": [
       "<AxesSubplot:>"
      ]
     },
     "execution_count": 33,
     "metadata": {},
     "output_type": "execute_result"
    },
    {
     "data": {
      "image/png": "[encoded data removed]",
      "text/plain": [
       "<Figure size 432x288 with 1 Axes>"
      ]
     },
     "metadata": {
      "needs_background": "light"
     },
     "output_type": "display_data"
    }
   ],
   "source": [
    "obs3 = [0, 1, 1, 0, 1, 1, 1]\n",
    "compute_and_plot_posterior(obs3)"
   ]
  },
  {
   "cell_type": "markdown",
   "id": "3ab59a47-78a5-44e2-85c8-813b345cc419",
   "metadata": {},
   "source": [
    "## 2M2"
   ]
  },
  {
   "cell_type": "code",
   "execution_count": 34,
   "id": "fec55012-70a5-4b88-b6a2-ff94d81be469",
   "metadata": {
    "execution": {
     "iopub.execute_input": "2022-06-27T22:01:52.406988Z",
     "iopub.status.busy": "2022-06-27T22:01:52.406628Z",
     "iopub.status.idle": "2022-06-27T22:01:52.527495Z",
     "shell.execute_reply": "2022-06-27T22:01:52.526891Z",
     "shell.execute_reply.started": "2022-06-27T22:01:52.406963Z"
    },
    "tags": []
   },
   "outputs": [
    {
     "data": {
      "text/plain": [
       "<AxesSubplot:>"
      ]
     },
     "execution_count": 34,
     "metadata": {},
     "output_type": "execute_result"
    },
    {
     "data": {
      "image/png": "[encoded data removed]",
      "text/plain": [
       "<Figure size 432x288 with 1 Axes>"
      ]
     },
     "metadata": {
      "needs_background": "light"
     },
     "output_type": "display_data"
    }
   ],
   "source": [
    "p_grid = torch.linspace(start=0, end=1, steps=n_steps)\n",
    "prior = tensor([0 if p<0.5 else 1 for p in p_grid])\n",
    "compute_and_plot_posterior(obs1, prior=prior)"
   ]
  },
  {
   "cell_type": "code",
   "execution_count": 36,
   "id": "dd04dfa3-36e7-4265-9c2e-df14d78cf641",
   "metadata": {
    "execution": {
     "iopub.execute_input": "2022-06-27T22:02:15.696501Z",
     "iopub.status.busy": "2022-06-27T22:02:15.696144Z",
     "iopub.status.idle": "2022-06-27T22:02:15.808788Z",
     "shell.execute_reply": "2022-06-27T22:02:15.808181Z",
     "shell.execute_reply.started": "2022-06-27T22:02:15.696475Z"
    },
    "tags": []
   },
   "outputs": [
    {
     "data": {
      "text/plain": [
       "<AxesSubplot:>"
      ]
     },
     "execution_count": 36,
     "metadata": {},
     "output_type": "execute_result"
    },
    {
     "data": {
      "image/png": "[encoded data removed]",
      "text/plain": [
       "<Figure size 432x288 with 1 Axes>"
      ]
     },
     "metadata": {
      "needs_background": "light"
     },
     "output_type": "display_data"
    }
   ],
   "source": [
    "compute_and_plot_posterior(obs2, prior=prior)"
   ]
  },
  {
   "cell_type": "code",
   "execution_count": 37,
   "id": "59ec6382-c177-4b00-8d4c-c88a555929d7",
   "metadata": {
    "execution": {
     "iopub.execute_input": "2022-06-27T22:02:31.228659Z",
     "iopub.status.busy": "2022-06-27T22:02:31.228281Z",
     "iopub.status.idle": "2022-06-27T22:02:31.340549Z",
     "shell.execute_reply": "2022-06-27T22:02:31.339934Z",
     "shell.execute_reply.started": "2022-06-27T22:02:31.228631Z"
    }
   },
   "outputs": [
    {
     "data": {
      "text/plain": [
       "<AxesSubplot:>"
      ]
     },
     "execution_count": 37,
     "metadata": {},
     "output_type": "execute_result"
    },
    {
     "data": {
      "image/png": "[encoded data removed]",
      "text/plain": [
       "<Figure size 432x288 with 1 Axes>"
      ]
     },
     "metadata": {
      "needs_background": "light"
     },
     "output_type": "display_data"
    }
   ],
   "source": [
    "compute_and_plot_posterior(obs3, prior=prior)"
   ]
  },
  {
   "cell_type": "markdown",
   "id": "f46bd5d6-b1a2-4363-b476-4377a5e0f921",
   "metadata": {},
   "source": [
    "## 2M3"
   ]
  },
  {
   "cell_type": "markdown",
   "id": "66ec4dc4-1fb0-4332-800e-8f4c97c5662b",
   "metadata": {},
   "source": [
    "$\n",
    "P(L|E) = 0.3 \\\\\n",
    "P(L|M) = 1.0 \\\\\n",
    "P(E) = 0.5 \\\\\n",
    "P(M) = 0.5 \\\\\n",
    "P(E|L) = ? \\\\\n",
    "--------- \\\\\n",
    "P(E|L) = \\frac{P(L|E) * P(E)}{P(L)} \\\\\n",
    "P(E|L) = \\frac{P(L|E) * P(E)}{P(L|E)P(E) + P(L|M)*P(M)} \\\\\n",
    "P(E|L) = \\frac{0.15}{0.15 + 0.5} \\\\\n",
    "P(E|L) ~ 0.23\n",
    "$\n"
   ]
  },
  {
   "cell_type": "markdown",
   "id": "e898a3e1-d336-4dce-9c5b-17cd9a846986",
   "metadata": {
    "execution": {
     "iopub.execute_input": "2022-06-27T22:20:53.896963Z",
     "iopub.status.busy": "2022-06-27T22:20:53.896597Z",
     "iopub.status.idle": "2022-06-27T22:20:53.901118Z",
     "shell.execute_reply": "2022-06-27T22:20:53.899922Z",
     "shell.execute_reply.started": "2022-06-27T22:20:53.896937Z"
    }
   },
   "source": [
    "## 2M4"
   ]
  },
  {
   "cell_type": "markdown",
   "id": "af5dcadd-9308-41a8-bbff-b58f6a8add9a",
   "metadata": {},
   "source": [
    "Number of ways for each card to produce the observation (1 black):\n",
    "- B/B: 2\n",
    "- B/W: 1\n",
    "- W/W: 0 \n",
    "\n",
    "Standardize by dividing by the sum of all paths through the garden:\n",
    "- B/B: .66\n",
    "- B/W: .33\n",
    "- W/W: 0.0"
   ]
  },
  {
   "cell_type": "markdown",
   "id": "00a9819f-9605-44f0-808e-d525c5da3224",
   "metadata": {
    "execution": {
     "iopub.execute_input": "2022-06-27T22:24:27.201238Z",
     "iopub.status.busy": "2022-06-27T22:24:27.200482Z",
     "iopub.status.idle": "2022-06-27T22:24:27.205028Z",
     "shell.execute_reply": "2022-06-27T22:24:27.203714Z",
     "shell.execute_reply.started": "2022-06-27T22:24:27.201210Z"
    }
   },
   "source": [
    "## 2M5"
   ]
  },
  {
   "cell_type": "markdown",
   "id": "24a2d09b-c76c-408a-9e54-fb949a0d58e8",
   "metadata": {
    "execution": {
     "iopub.execute_input": "2022-06-27T22:25:31.409077Z",
     "iopub.status.busy": "2022-06-27T22:25:31.408697Z",
     "iopub.status.idle": "2022-06-27T22:25:31.416075Z",
     "shell.execute_reply": "2022-06-27T22:25:31.415012Z",
     "shell.execute_reply.started": "2022-06-27T22:25:31.409047Z"
    }
   },
   "source": [
    "Number of ways for each card to produce the observation (1 black):\n",
    "- B/B: 2\n",
    "- B/B: 2\n",
    "- B/W: 1\n",
    "- W/W: 0 \n",
    "\n",
    "Standardize by dividing by the sum of all paths through the garden:\n",
    "- B/B: .8\n",
    "- B/W: .2\n",
    "- W/W: 0.0"
   ]
  },
  {
   "cell_type": "markdown",
   "id": "24c1e2ee-046b-4991-b576-b7fc8f50d843",
   "metadata": {},
   "source": [
    "## 2M6"
   ]
  },
  {
   "cell_type": "markdown",
   "id": "654f597b-25a3-4ece-a485-410ca9ead394",
   "metadata": {},
   "source": [
    "Priors:\n",
    "- B/B: 1\n",
    "- B/W: 2\n",
    "- W/W: 3\n",
    "\n",
    "Likelihood:\n",
    "- B/B: 2\n",
    "- B/W: 1\n",
    "- W/W: 0 \n",
    "\n",
    "Unstd Posterior:\n",
    "- B/B: 2\n",
    "- B/W: 2\n",
    "- W/W: 0\n",
    "\n",
    "Std Posterior:\n",
    "- B/B: 0.5\n",
    "- B/W: 0.5\n",
    "- W/W: 0.0"
   ]
  },
  {
   "cell_type": "markdown",
   "id": "fbe6bb1e-c728-4227-ae11-4930a0bfb57c",
   "metadata": {},
   "source": [
    "## 2M7"
   ]
  },
  {
   "cell_type": "markdown",
   "id": "b176e04b-c577-4249-b0a2-42237b779334",
   "metadata": {},
   "source": [
    "OBS: [B, W]\n",
    "Priors: Uniform\n",
    "Likelihood (ways):\n",
    "- B/B: 6\n",
    "- B/W: 2\n",
    "- W/W: 0 \n",
    "\n",
    "Std Posterior:\n",
    "- B/B: 0.75\n",
    "- B/W: 0.25\n",
    "- W/W: 0.0"
   ]
  },
  {
   "cell_type": "markdown",
   "id": "9ffca48e-6095-4bff-8460-ab99c4617fd1",
   "metadata": {},
   "source": [
    "## 2H1"
   ]
  },
  {
   "cell_type": "markdown",
   "id": "aaeb1175-c0e3-486b-9210-482ccf474b2d",
   "metadata": {},
   "source": [
    "$\n",
    "P(T|A) = 0.1 \\\\\n",
    "P(T|B) = 0.2 \\\\ \n",
    "P(A) = 0.5 \\\\ \n",
    "P(B) = 0.5 \\\\ \n",
    "P(T2|T)=? \\\\ \n",
    "--------- \\\\\n",
    "P(T2|T) = \\frac{P(T, T2)}{P(T)} \\\\\n",
    "P(T) = P(T|A)P(A) + P(T|B)P(B) = 0.15 \\\\ \n",
    "P(T, T2) = P(T, T2|A)P(A) + P(T, T2|B)P(B) \\\\ \n",
    "P(T, T2) = 0.01 * 0.5 + 0.04 * 0.5 \\\\ \n",
    "P(T, T2) = 0.025 \\\\ \n",
    "P(T2|T)=  0.17 \\\\ \n",
    "$"
   ]
  },
  {
   "cell_type": "markdown",
   "id": "995d1a5b-3b58-4ffd-b56a-7ecdb2390bfe",
   "metadata": {},
   "source": [
    "## 2H2"
   ]
  },
  {
   "cell_type": "markdown",
   "id": "44336207-1d52-42eb-a363-7e53cf14c54d",
   "metadata": {},
   "source": [
    "$\n",
    "P(A|T) = ? \\\\\n",
    "---------- \\\\\n",
    "P(A|T) = \\frac{P(T|A)*P(A)}{P(T)} \\\\ \n",
    "P(A|T) = \\frac{0.1 * 0.5}{0.15} \\\\ \n",
    "P(A|T) = 0.33 \\\\\n",
    "$"
   ]
  },
  {
   "cell_type": "markdown",
   "id": "06bbacb5-a663-4c22-820e-f840b8ffe911",
   "metadata": {},
   "source": [
    "## 2H3"
   ]
  },
  {
   "cell_type": "markdown",
   "id": "ad4bf383-1c41-417f-bc08-e793037da282",
   "metadata": {},
   "source": [
    "*Note: Simplest solution uses the posterior from the prior problem as the new prior!!*"
   ]
  },
  {
   "cell_type": "markdown",
   "id": "d8a7c7fd-6175-4022-bc2e-064785b10897",
   "metadata": {},
   "source": [
    "$\n",
    "P(A|TS) = ? \\\\ \n",
    "----------- \\\\ \n",
    "P(A|TS) = \\frac{P(TS|A)P(A)}{P(TS)}\n",
    "P(TS) = P(TS|A)P(A) + P(TS|B)P(B) \\\\\n",
    "P(TS|A) = P(S|TA)P(T|A) \\\\\n",
    "P(TS|A) = 0.1*0.9 = 0.09 \\\\\n",
    "P(TS|B) = P(S|TB)P(T|B) \\\\\n",
    "P(TS|B) = 0.2*0.8 = 0.16 \\\\\n",
    "P(TS) = 0.09*0.5 + 0.16*0.5 = 0.125 \\\\ \n",
    "P(A|TS) = \\frac{0.09 * 0.5}{0.125} = 0.36\\\\\n",
    "$"
   ]
  },
  {
   "cell_type": "markdown",
   "id": "f95b901b-395c-4e22-8283-f73a419a98e2",
   "metadata": {},
   "source": [
    "## 2H4"
   ]
  },
  {
   "cell_type": "markdown",
   "id": "5671aa45-b7c9-4811-9747-62c6cb150eab",
   "metadata": {},
   "source": [
    "$\n",
    "P(T_A|A) = 0.8 \\\\\n",
    "P(T_B|B) = 0.65 \\\\\n",
    "P(T_A|B) = 0.35 \\\\\n",
    "P(A|T_A) = ? \\\\\n",
    "-------- \\\\\n",
    "P(A|T_A) = \\frac{P(T_A|A)P(A)}{P(T_A)} \\\\\n",
    "P(T_A) = P(T_A|A)P(A) + P(T_A|B)P(B) \\\\\n",
    "P(T_A) = 0.675 \\\\ \n",
    "P(A|T_A) = 0.593 \\\\\n",
    "$"
   ]
  },
  {
   "cell_type": "markdown",
   "id": "5f565522-6dea-446c-91ae-b4b3365612aa",
   "metadata": {},
   "source": [
    "$\n",
    "P(A|T_A) = \\frac{P(T_A|A)P(A)}{P(T_A)} \\\\\n",
    "P(T_A) = P(T_A|A)P(A) + P(T_A|B)P(B) \\\\\n",
    "P(T_A) = 0.51 \\\\\n",
    "P(A|T_A) = \\frac{0.8 * 0.36}{0.51} \\\\\n",
    "P(A|T_A) = 0.565 \\\\\n",
    "$"
   ]
  },
  {
   "cell_type": "markdown",
   "id": "d58a6d3b-e6ab-4046-bcf9-8f0016303f84",
   "metadata": {},
   "source": [
    "## FUN"
   ]
  },
  {
   "cell_type": "code",
   "execution_count": 49,
   "id": "29a0e940-5891-4b81-b8c1-585f46d8f83c",
   "metadata": {
    "execution": {
     "iopub.execute_input": "2022-06-27T23:53:01.891065Z",
     "iopub.status.busy": "2022-06-27T23:53:01.890738Z",
     "iopub.status.idle": "2022-06-27T23:53:02.041407Z",
     "shell.execute_reply": "2022-06-27T23:53:02.040761Z",
     "shell.execute_reply.started": "2022-06-27T23:53:01.891040Z"
    },
    "tags": []
   },
   "outputs": [
    {
     "data": {
      "image/png": "[encoded data removed]",
      "text/plain": [
       "<Figure size 900x600 with 1 Axes>"
      ]
     },
     "metadata": {
      "needs_background": "light"
     },
     "output_type": "display_data"
    }
   ],
   "source": [
    "import math\n",
    "\n",
    "import numpy as np\n",
    "import matplotlib.pyplot as plt\n",
    "from matplotlib.animation import FuncAnimation\n",
    "\n",
    "\n",
    "def beta_pdf(x, a, b):\n",
    "    return (x**(a-1) * (1-x)**(b-1) * math.gamma(a + b)\n",
    "            / (math.gamma(a) * math.gamma(b)))\n",
    "\n",
    "\n",
    "class UpdateDist:\n",
    "    def __init__(self, ax, prob=0.5):\n",
    "        self.success = 0\n",
    "        self.prob = prob\n",
    "        self.line, = ax.plot([], [], 'k-')\n",
    "        self.x = np.linspace(0, 1, n_steps)\n",
    "        self.ax = ax\n",
    "\n",
    "        # Set up plot parameters\n",
    "        self.ax.set_xlim(0, 1)\n",
    "        self.ax.set_ylim(0, 10)\n",
    "        self.ax.grid(True)\n",
    "\n",
    "        # This vertical line represents the theoretical value, to\n",
    "        # which the plotted distribution should converge.\n",
    "        self.ax.axvline(prob, linestyle='--', color='black')\n",
    "\n",
    "    def __call__(self, i):\n",
    "        # This way the plot can continuously run and we just keep\n",
    "        # watching new realizations of the process\n",
    "        if i == 0:\n",
    "            self.success = 0\n",
    "            self.line.set_data([], [])\n",
    "            return self.line,\n",
    "\n",
    "        # Choose success based on exceed a threshold with a uniform pick\n",
    "        res = 1 if np.random.rand(1,) < self.prob else 0\n",
    "        self.observations.append(res)\n",
    "            \n",
    "        _, posteriors = compute_posterior(self.observations, n_steps)\n",
    "        self.line.set_data(self.x, posteriors)\n",
    "        return self.line,\n",
    "\n",
    "# Fixing random state for reproducibility\n",
    "np.random.seed(19680801)\n",
    "\n",
    "\n",
    "fig, ax = plt.subplots()\n",
    "ud = UpdateDist(ax, prob=0.7)\n",
    "anim = FuncAnimation(fig, ud, frames=100, interval=100, blit=True)\n",
    "plt.show()\n"
   ]
  },
  {
   "cell_type": "code",
   "execution_count": 4,
   "id": "9b363a97-8bd9-4ae2-9411-bc354f541b0d",
   "metadata": {
    "execution": {
     "iopub.execute_input": "2022-06-28T00:03:56.399983Z",
     "iopub.status.busy": "2022-06-28T00:03:56.399599Z",
     "iopub.status.idle": "2022-06-28T00:03:56.559533Z",
     "shell.execute_reply": "2022-06-28T00:03:56.558953Z",
     "shell.execute_reply.started": "2022-06-28T00:03:56.399958Z"
    },
    "tags": []
   },
   "outputs": [
    {
     "data": {
      "image/png": "[encoded data removed]",
      "text/plain": [
       "<Figure size 432x288 with 1 Axes>"
      ]
     },
     "metadata": {
      "needs_background": "light"
     },
     "output_type": "display_data"
    }
   ],
   "source": [
    "%matplotlib inline\n",
    "import math\n",
    "\n",
    "import numpy as np\n",
    "import matplotlib.pyplot as plt\n",
    "from matplotlib.animation import FuncAnimation\n",
    "\n",
    "\n",
    "def beta_pdf(x, a, b):\n",
    "    return (x**(a-1) * (1-x)**(b-1) * math.gamma(a + b)\n",
    "            / (math.gamma(a) * math.gamma(b)))\n",
    "\n",
    "\n",
    "class UpdateDist:\n",
    "    def __init__(self, ax, prob=0.5):\n",
    "        self.observations = [0]\n",
    "        self.prob = prob\n",
    "        self.line, = ax.plot([], [], 'k-')\n",
    "        self.x = np.linspace(0, 1, 200)\n",
    "        self.ax = ax\n",
    "\n",
    "        # Set up plot parameters\n",
    "        self.ax.set_xlim(0, 1)\n",
    "        self.ax.set_ylim(0, 10)\n",
    "        self.ax.grid(True)\n",
    "\n",
    "        # This vertical line represents the theoretical value, to\n",
    "        # which the plotted distribution should converge.\n",
    "        self.ax.axvline(prob, linestyle='--', color='black')\n",
    "\n",
    "    def __call__(self, i):\n",
    "        # This way the plot can continuously run and we just keep\n",
    "        # watching new realizations of the process\n",
    "        if i == 0:\n",
    "            self.observations = [0]\n",
    "            self.line.set_data([], [])\n",
    "            return self.line,\n",
    "\n",
    "        # Choose success based on exceed a threshold with a uniform pick\n",
    "        if np.random.rand(1,) < self.prob:\n",
    "            self.success += 1\n",
    "        y = beta_pdf(self.x, self.success + 1, (i - self.success) + 1)\n",
    "        self.line.set_data(self.x, y)\n",
    "        return self.line,\n",
    "\n",
    "# Fixing random state for reproducibility\n",
    "np.random.seed(19680801)\n",
    "\n",
    "\n",
    "fig, ax = plt.subplots()\n",
    "ud = UpdateDist(ax, prob=0.7)\n",
    "anim = FuncAnimation(fig, ud, frames=100, interval=100, blit=True)\n",
    "plt.show()"
   ]
  },
  {
   "cell_type": "code",
   "execution_count": 2,
   "id": "44c358c6-6c4d-4ed9-ac27-f4054b3041a3",
   "metadata": {
    "execution": {
     "iopub.execute_input": "2022-06-28T00:02:32.690454Z",
     "iopub.status.busy": "2022-06-28T00:02:32.690115Z",
     "iopub.status.idle": "2022-06-28T00:02:32.797900Z",
     "shell.execute_reply": "2022-06-28T00:02:32.796999Z",
     "shell.execute_reply.started": "2022-06-28T00:02:32.690430Z"
    },
    "tags": []
   },
   "outputs": [
    {
     "data": {
      "application/vnd.jupyter.widget-view+json": {
       "model_id": "2a6624e4ae5f439fac940d75bfa2f798",
       "version_major": 2,
       "version_minor": 0
      },
      "image/png": "[encoded data removed]",
      "text/html": [
       "\n",
       "            <div style=\"display: inline-block;\">\n",
       "                <div class=\"jupyter-widgets widget-label\" style=\"text-align: center;\">\n",
       "                    Figure\n",
       "                </div>\n",
       "                <img src='data:image/png;base64,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' width=640.0/>\n",
       "            </div>\n",
       "        "
      ],
      "text/plain": [
       "Canvas(toolbar=Toolbar(toolitems=[('Home', 'Reset original view', 'home', 'home'), ('Back', 'Back to previous …"
      ]
     },
     "metadata": {},
     "output_type": "display_data"
    }
   ],
   "source": [
    "import math\n",
    "\n",
    "import numpy as np\n",
    "import matplotlib.pyplot as plt\n",
    "from matplotlib.animation import FuncAnimation\n",
    "\n",
    "\n",
    "def beta_pdf(x, a, b):\n",
    "    return (x**(a-1) * (1-x)**(b-1) * math.gamma(a + b)\n",
    "            / (math.gamma(a) * math.gamma(b)))\n",
    "\n",
    "\n",
    "class UpdateDist:\n",
    "    def __init__(self, ax, prob=0.5):\n",
    "        self.success = 0\n",
    "        self.prob = prob\n",
    "        self.line, = ax.plot([], [], 'k-')\n",
    "        self.x = np.linspace(0, 1, 200)\n",
    "        self.ax = ax\n",
    "\n",
    "        # Set up plot parameters\n",
    "        self.ax.set_xlim(0, 1)\n",
    "        self.ax.set_ylim(0, 10)\n",
    "        self.ax.grid(True)\n",
    "\n",
    "        # This vertical line represents the theoretical value, to\n",
    "        # which the plotted distribution should converge.\n",
    "        self.ax.axvline(prob, linestyle='--', color='black')\n",
    "\n",
    "    def __call__(self, i):\n",
    "        # This way the plot can continuously run and we just keep\n",
    "        # watching new realizations of the process\n",
    "        if i == 0:\n",
    "            self.success = 0\n",
    "            self.line.set_data([], [])\n",
    "            return self.line,\n",
    "\n",
    "        # Choose success based on exceed a threshold with a uniform pick\n",
    "        if np.random.rand(1,) < self.prob:\n",
    "            self.success += 1\n",
    "        y = beta_pdf(self.x, self.success + 1, (i - self.success) + 1)\n",
    "        self.line.set_data(self.x, y)\n",
    "        return self.line,\n",
    "\n",
    "# Fixing random state for reproducibility\n",
    "np.random.seed(19680801)\n",
    "\n",
    "\n",
    "fig, ax = plt.subplots()\n",
    "ud = UpdateDist(ax, prob=0.7)\n",
    "anim = FuncAnimation(fig, ud, frames=100, interval=100, blit=True)\n",
    "plt.show()"
   ]
  },
  {
   "cell_type": "code",
   "execution_count": 3,
   "id": "44ec6449-cf55-4b61-9b82-674e016cda19",
   "metadata": {
    "execution": {
     "iopub.execute_input": "2022-06-28T00:01:17.461039Z",
     "iopub.status.busy": "2022-06-28T00:01:17.460693Z",
     "iopub.status.idle": "2022-06-28T00:01:17.582777Z",
     "shell.execute_reply": "2022-06-28T00:01:17.581838Z",
     "shell.execute_reply.started": "2022-06-28T00:01:17.461011Z"
    },
    "tags": []
   },
   "outputs": [
    {
     "name": "stderr",
     "output_type": "stream",
     "text": [
      "/Users/toby.manders/Library/Caches/pypoetry/virtualenvs/statistical-rethinking-64KwZK9C-py3.9/lib/python3.9/site-packages/matplotlib/animation.py:887: UserWarning: Animation was deleted without rendering anything. This is most likely not intended. To prevent deletion, assign the Animation to a variable, e.g. `anim`, that exists until you have outputted the Animation using `plt.show()` or `anim.save()`.\n",
      "  warnings.warn(\n"
     ]
    },
    {
     "data": {
      "application/vnd.jupyter.widget-view+json": {
       "model_id": "412023f787e54a72a637df0c11eba2c0",
       "version_major": 2,
       "version_minor": 0
      },
      "image/png": "[encoded data removed]",
      "text/html": [
       "\n",
       "            <div style=\"display: inline-block;\">\n",
       "                <div class=\"jupyter-widgets widget-label\" style=\"text-align: center;\">\n",
       "                    Figure\n",
       "                </div>\n",
       "                <img src='data:image/png;base64,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' width=750.0/>\n",
       "            </div>\n",
       "        "
      ],
      "text/plain": [
       "Canvas(toolbar=Toolbar(toolitems=[('Home', 'Reset original view', 'home', 'home'), ('Back', 'Back to previous …"
      ]
     },
     "metadata": {},
     "output_type": "display_data"
    }
   ],
   "source": [
    "import numpy as np\n",
    "import matplotlib.pyplot as plt\n",
    "import matplotlib.animation as animation\n",
    "\n",
    "plt.rcParams[\"figure.figsize\"] = [7.50, 3.50]\n",
    "plt.rcParams[\"figure.autolayout\"] = True\n",
    "data = np.random.randn(800).reshape(10, 10, 8)\n",
    "fig, ax = plt.subplots()\n",
    "\n",
    "def animate(i):\n",
    "   ax.clear()\n",
    "   ax.contourf(data[:, :, i])\n",
    "\n",
    "ani = animation.FuncAnimation(fig, animate, 5, interval=50, blit=False)\n",
    "plt.show()\n"
   ]
  },
  {
   "cell_type": "code",
   "execution_count": 1,
   "id": "523ad777-6275-4386-9522-de414aa97f9a",
   "metadata": {
    "execution": {
     "iopub.execute_input": "2022-06-28T00:04:22.026029Z",
     "iopub.status.busy": "2022-06-28T00:04:22.025587Z",
     "iopub.status.idle": "2022-06-28T00:04:22.755598Z",
     "shell.execute_reply": "2022-06-28T00:04:22.755005Z",
     "shell.execute_reply.started": "2022-06-28T00:04:22.025949Z"
    },
    "tags": []
   },
   "outputs": [
    {
     "data": {
      "image/png": "[encoded data removed]",
      "text/plain": [
       "<Figure size 432x288 with 1 Axes>"
      ]
     },
     "metadata": {
      "needs_background": "light"
     },
     "output_type": "display_data"
    }
   ],
   "source": [
    "%matplotlib inline\n",
    "import matplotlib.pyplot as plt\n",
    "import matplotlib.animation\n",
    "import numpy as np\n",
    "\n",
    "t = np.linspace(0,2*np.pi)\n",
    "x = np.sin(t)\n",
    "\n",
    "fig, ax = plt.subplots()\n",
    "l, = ax.plot([0,2*np.pi],[-1,1])\n",
    "\n",
    "animate = lambda i: l.set_data(t[:i], x[:i])\n",
    "\n",
    "ani = matplotlib.animation.FuncAnimation(fig, animate, frames=len(t))\n",
    "\n",
    "plt.show()"
   ]
  },
  {
   "cell_type": "code",
   "execution_count": 2,
   "id": "db245eb8-953a-44ca-be5b-826a9405c229",
   "metadata": {
    "execution": {
     "iopub.execute_input": "2022-06-28T00:04:46.001812Z",
     "iopub.status.busy": "2022-06-28T00:04:46.001410Z",
     "iopub.status.idle": "2022-06-28T00:04:46.007813Z",
     "shell.execute_reply": "2022-06-28T00:04:46.006823Z",
     "shell.execute_reply.started": "2022-06-28T00:04:46.001785Z"
    },
    "tags": []
   },
   "outputs": [
    {
     "data": {
      "text/plain": [
       "50"
      ]
     },
     "execution_count": 2,
     "metadata": {},
     "output_type": "execute_result"
    }
   ],
   "source": [
    "len(t)"
   ]
  },
  {
   "cell_type": "code",
   "execution_count": null,
   "id": "1229415d-1d58-41f5-b0b9-693a45f209b7",
   "metadata": {},
   "outputs": [],
   "source": []
  }
 ],
 "metadata": {
  "kernelspec": {
   "display_name": "statistical-rethinking-env",
   "language": "python",
   "name": "statistical-rethinking-env"
  },
  "language_info": {
   "codemirror_mode": {
    "name": "ipython",
    "version": 3
   },
   "file_extension": ".py",
   "mimetype": "text/x-python",
   "name": "python",
   "nbconvert_exporter": "python",
   "pygments_lexer": "ipython3",
   "version": "3.9.10"
  }
 },
 "nbformat": 4,
 "nbformat_minor": 5
}
